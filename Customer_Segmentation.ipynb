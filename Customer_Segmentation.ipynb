{
  "nbformat": 4,
  "nbformat_minor": 0,
  "metadata": {
    "colab": {
      "name": "Customer Segmentation.ipynb",
      "provenance": [],
      "collapsed_sections": []
    },
    "kernelspec": {
      "name": "python3",
      "display_name": "Python 3"
    }
  },
  "cells": [
    {
      "cell_type": "code",
      "metadata": {
        "id": "AQY_2bpowJIP",
        "colab_type": "code",
        "colab": {}
      },
      "source": [
        "import pandas as pd\n",
        "import numpy as np"
      ],
      "execution_count": 1,
      "outputs": []
    },
    {
      "cell_type": "code",
      "metadata": {
        "id": "B1efyL5lyiC3",
        "colab_type": "code",
        "colab": {}
      },
      "source": [
        "import matplotlib.pyplot as plt\n",
        "%matplotlib inline"
      ],
      "execution_count": 2,
      "outputs": []
    },
    {
      "cell_type": "code",
      "metadata": {
        "id": "cmhQA8HlynlU",
        "colab_type": "code",
        "colab": {
          "base_uri": "https://localhost:8080/",
          "height": 71
        },
        "outputId": "5bc100be-f658-436d-8587-197fc10cd2ba"
      },
      "source": [
        "import seaborn as sns"
      ],
      "execution_count": 3,
      "outputs": [
        {
          "output_type": "stream",
          "text": [
            "/usr/local/lib/python3.6/dist-packages/statsmodels/tools/_testing.py:19: FutureWarning: pandas.util.testing is deprecated. Use the functions in the public API at pandas.testing instead.\n",
            "  import pandas.util.testing as tm\n"
          ],
          "name": "stderr"
        }
      ]
    },
    {
      "cell_type": "code",
      "metadata": {
        "id": "1_qivkg2ypZa",
        "colab_type": "code",
        "colab": {}
      },
      "source": [
        "train_data=pd.read_csv('/content/Train_aBjfeNk.csv')"
      ],
      "execution_count": 131,
      "outputs": []
    },
    {
      "cell_type": "code",
      "metadata": {
        "id": "r0fRYg7ty2EY",
        "colab_type": "code",
        "colab": {
          "base_uri": "https://localhost:8080/",
          "height": 224
        },
        "outputId": "6e890e57-9531-4863-aa23-9f069e109fa3"
      },
      "source": [
        "train_data.head()"
      ],
      "execution_count": 132,
      "outputs": [
        {
          "output_type": "execute_result",
          "data": {
            "text/html": [
              "<div>\n",
              "<style scoped>\n",
              "    .dataframe tbody tr th:only-of-type {\n",
              "        vertical-align: middle;\n",
              "    }\n",
              "\n",
              "    .dataframe tbody tr th {\n",
              "        vertical-align: top;\n",
              "    }\n",
              "\n",
              "    .dataframe thead th {\n",
              "        text-align: right;\n",
              "    }\n",
              "</style>\n",
              "<table border=\"1\" class=\"dataframe\">\n",
              "  <thead>\n",
              "    <tr style=\"text-align: right;\">\n",
              "      <th></th>\n",
              "      <th>ID</th>\n",
              "      <th>Gender</th>\n",
              "      <th>Ever_Married</th>\n",
              "      <th>Age</th>\n",
              "      <th>Graduated</th>\n",
              "      <th>Profession</th>\n",
              "      <th>Work_Experience</th>\n",
              "      <th>Spending_Score</th>\n",
              "      <th>Family_Size</th>\n",
              "      <th>Var_1</th>\n",
              "      <th>Segmentation</th>\n",
              "    </tr>\n",
              "  </thead>\n",
              "  <tbody>\n",
              "    <tr>\n",
              "      <th>0</th>\n",
              "      <td>462809</td>\n",
              "      <td>Male</td>\n",
              "      <td>No</td>\n",
              "      <td>22</td>\n",
              "      <td>No</td>\n",
              "      <td>Healthcare</td>\n",
              "      <td>1.0</td>\n",
              "      <td>Low</td>\n",
              "      <td>4.0</td>\n",
              "      <td>Cat_4</td>\n",
              "      <td>D</td>\n",
              "    </tr>\n",
              "    <tr>\n",
              "      <th>1</th>\n",
              "      <td>462643</td>\n",
              "      <td>Female</td>\n",
              "      <td>Yes</td>\n",
              "      <td>38</td>\n",
              "      <td>Yes</td>\n",
              "      <td>Engineer</td>\n",
              "      <td>NaN</td>\n",
              "      <td>Average</td>\n",
              "      <td>3.0</td>\n",
              "      <td>Cat_4</td>\n",
              "      <td>A</td>\n",
              "    </tr>\n",
              "    <tr>\n",
              "      <th>2</th>\n",
              "      <td>466315</td>\n",
              "      <td>Female</td>\n",
              "      <td>Yes</td>\n",
              "      <td>67</td>\n",
              "      <td>Yes</td>\n",
              "      <td>Engineer</td>\n",
              "      <td>1.0</td>\n",
              "      <td>Low</td>\n",
              "      <td>1.0</td>\n",
              "      <td>Cat_6</td>\n",
              "      <td>B</td>\n",
              "    </tr>\n",
              "    <tr>\n",
              "      <th>3</th>\n",
              "      <td>461735</td>\n",
              "      <td>Male</td>\n",
              "      <td>Yes</td>\n",
              "      <td>67</td>\n",
              "      <td>Yes</td>\n",
              "      <td>Lawyer</td>\n",
              "      <td>0.0</td>\n",
              "      <td>High</td>\n",
              "      <td>2.0</td>\n",
              "      <td>Cat_6</td>\n",
              "      <td>B</td>\n",
              "    </tr>\n",
              "    <tr>\n",
              "      <th>4</th>\n",
              "      <td>462669</td>\n",
              "      <td>Female</td>\n",
              "      <td>Yes</td>\n",
              "      <td>40</td>\n",
              "      <td>Yes</td>\n",
              "      <td>Entertainment</td>\n",
              "      <td>NaN</td>\n",
              "      <td>High</td>\n",
              "      <td>6.0</td>\n",
              "      <td>Cat_6</td>\n",
              "      <td>A</td>\n",
              "    </tr>\n",
              "  </tbody>\n",
              "</table>\n",
              "</div>"
            ],
            "text/plain": [
              "       ID  Gender Ever_Married  ...  Family_Size  Var_1 Segmentation\n",
              "0  462809    Male           No  ...          4.0  Cat_4            D\n",
              "1  462643  Female          Yes  ...          3.0  Cat_4            A\n",
              "2  466315  Female          Yes  ...          1.0  Cat_6            B\n",
              "3  461735    Male          Yes  ...          2.0  Cat_6            B\n",
              "4  462669  Female          Yes  ...          6.0  Cat_6            A\n",
              "\n",
              "[5 rows x 11 columns]"
            ]
          },
          "metadata": {
            "tags": []
          },
          "execution_count": 132
        }
      ]
    },
    {
      "cell_type": "code",
      "metadata": {
        "id": "MvENm57zy3xx",
        "colab_type": "code",
        "colab": {}
      },
      "source": [
        "test_data=pd.read_csv('/content/Test_LqhgPWU.csv')"
      ],
      "execution_count": 133,
      "outputs": []
    },
    {
      "cell_type": "code",
      "metadata": {
        "id": "EkExKJgVzJGP",
        "colab_type": "code",
        "colab": {
          "base_uri": "https://localhost:8080/",
          "height": 204
        },
        "outputId": "73a716f5-b3a5-4f95-a9cb-f8df01202f5a"
      },
      "source": [
        "test_data.head()"
      ],
      "execution_count": 134,
      "outputs": [
        {
          "output_type": "execute_result",
          "data": {
            "text/html": [
              "<div>\n",
              "<style scoped>\n",
              "    .dataframe tbody tr th:only-of-type {\n",
              "        vertical-align: middle;\n",
              "    }\n",
              "\n",
              "    .dataframe tbody tr th {\n",
              "        vertical-align: top;\n",
              "    }\n",
              "\n",
              "    .dataframe thead th {\n",
              "        text-align: right;\n",
              "    }\n",
              "</style>\n",
              "<table border=\"1\" class=\"dataframe\">\n",
              "  <thead>\n",
              "    <tr style=\"text-align: right;\">\n",
              "      <th></th>\n",
              "      <th>ID</th>\n",
              "      <th>Gender</th>\n",
              "      <th>Ever_Married</th>\n",
              "      <th>Age</th>\n",
              "      <th>Graduated</th>\n",
              "      <th>Profession</th>\n",
              "      <th>Work_Experience</th>\n",
              "      <th>Spending_Score</th>\n",
              "      <th>Family_Size</th>\n",
              "      <th>Var_1</th>\n",
              "    </tr>\n",
              "  </thead>\n",
              "  <tbody>\n",
              "    <tr>\n",
              "      <th>0</th>\n",
              "      <td>458989</td>\n",
              "      <td>Female</td>\n",
              "      <td>Yes</td>\n",
              "      <td>36</td>\n",
              "      <td>Yes</td>\n",
              "      <td>Engineer</td>\n",
              "      <td>0.0</td>\n",
              "      <td>Low</td>\n",
              "      <td>1.0</td>\n",
              "      <td>Cat_6</td>\n",
              "    </tr>\n",
              "    <tr>\n",
              "      <th>1</th>\n",
              "      <td>458994</td>\n",
              "      <td>Male</td>\n",
              "      <td>Yes</td>\n",
              "      <td>37</td>\n",
              "      <td>Yes</td>\n",
              "      <td>Healthcare</td>\n",
              "      <td>8.0</td>\n",
              "      <td>Average</td>\n",
              "      <td>4.0</td>\n",
              "      <td>Cat_6</td>\n",
              "    </tr>\n",
              "    <tr>\n",
              "      <th>2</th>\n",
              "      <td>458996</td>\n",
              "      <td>Female</td>\n",
              "      <td>Yes</td>\n",
              "      <td>69</td>\n",
              "      <td>No</td>\n",
              "      <td>NaN</td>\n",
              "      <td>0.0</td>\n",
              "      <td>Low</td>\n",
              "      <td>1.0</td>\n",
              "      <td>Cat_6</td>\n",
              "    </tr>\n",
              "    <tr>\n",
              "      <th>3</th>\n",
              "      <td>459000</td>\n",
              "      <td>Male</td>\n",
              "      <td>Yes</td>\n",
              "      <td>59</td>\n",
              "      <td>No</td>\n",
              "      <td>Executive</td>\n",
              "      <td>11.0</td>\n",
              "      <td>High</td>\n",
              "      <td>2.0</td>\n",
              "      <td>Cat_6</td>\n",
              "    </tr>\n",
              "    <tr>\n",
              "      <th>4</th>\n",
              "      <td>459001</td>\n",
              "      <td>Female</td>\n",
              "      <td>No</td>\n",
              "      <td>19</td>\n",
              "      <td>No</td>\n",
              "      <td>Marketing</td>\n",
              "      <td>NaN</td>\n",
              "      <td>Low</td>\n",
              "      <td>4.0</td>\n",
              "      <td>Cat_6</td>\n",
              "    </tr>\n",
              "  </tbody>\n",
              "</table>\n",
              "</div>"
            ],
            "text/plain": [
              "       ID  Gender Ever_Married  ...  Spending_Score Family_Size  Var_1\n",
              "0  458989  Female          Yes  ...             Low         1.0  Cat_6\n",
              "1  458994    Male          Yes  ...         Average         4.0  Cat_6\n",
              "2  458996  Female          Yes  ...             Low         1.0  Cat_6\n",
              "3  459000    Male          Yes  ...            High         2.0  Cat_6\n",
              "4  459001  Female           No  ...             Low         4.0  Cat_6\n",
              "\n",
              "[5 rows x 10 columns]"
            ]
          },
          "metadata": {
            "tags": []
          },
          "execution_count": 134
        }
      ]
    },
    {
      "cell_type": "code",
      "metadata": {
        "id": "lnoPqnMvzK9z",
        "colab_type": "code",
        "colab": {}
      },
      "source": [
        "test_data['Segmentation']=-1"
      ],
      "execution_count": 135,
      "outputs": []
    },
    {
      "cell_type": "code",
      "metadata": {
        "id": "MWeuwbN3zUA3",
        "colab_type": "code",
        "colab": {
          "base_uri": "https://localhost:8080/",
          "height": 224
        },
        "outputId": "06246298-97e5-4643-fd74-7955e4b78ae5"
      },
      "source": [
        "test_data.head()"
      ],
      "execution_count": 136,
      "outputs": [
        {
          "output_type": "execute_result",
          "data": {
            "text/html": [
              "<div>\n",
              "<style scoped>\n",
              "    .dataframe tbody tr th:only-of-type {\n",
              "        vertical-align: middle;\n",
              "    }\n",
              "\n",
              "    .dataframe tbody tr th {\n",
              "        vertical-align: top;\n",
              "    }\n",
              "\n",
              "    .dataframe thead th {\n",
              "        text-align: right;\n",
              "    }\n",
              "</style>\n",
              "<table border=\"1\" class=\"dataframe\">\n",
              "  <thead>\n",
              "    <tr style=\"text-align: right;\">\n",
              "      <th></th>\n",
              "      <th>ID</th>\n",
              "      <th>Gender</th>\n",
              "      <th>Ever_Married</th>\n",
              "      <th>Age</th>\n",
              "      <th>Graduated</th>\n",
              "      <th>Profession</th>\n",
              "      <th>Work_Experience</th>\n",
              "      <th>Spending_Score</th>\n",
              "      <th>Family_Size</th>\n",
              "      <th>Var_1</th>\n",
              "      <th>Segmentation</th>\n",
              "    </tr>\n",
              "  </thead>\n",
              "  <tbody>\n",
              "    <tr>\n",
              "      <th>0</th>\n",
              "      <td>458989</td>\n",
              "      <td>Female</td>\n",
              "      <td>Yes</td>\n",
              "      <td>36</td>\n",
              "      <td>Yes</td>\n",
              "      <td>Engineer</td>\n",
              "      <td>0.0</td>\n",
              "      <td>Low</td>\n",
              "      <td>1.0</td>\n",
              "      <td>Cat_6</td>\n",
              "      <td>-1</td>\n",
              "    </tr>\n",
              "    <tr>\n",
              "      <th>1</th>\n",
              "      <td>458994</td>\n",
              "      <td>Male</td>\n",
              "      <td>Yes</td>\n",
              "      <td>37</td>\n",
              "      <td>Yes</td>\n",
              "      <td>Healthcare</td>\n",
              "      <td>8.0</td>\n",
              "      <td>Average</td>\n",
              "      <td>4.0</td>\n",
              "      <td>Cat_6</td>\n",
              "      <td>-1</td>\n",
              "    </tr>\n",
              "    <tr>\n",
              "      <th>2</th>\n",
              "      <td>458996</td>\n",
              "      <td>Female</td>\n",
              "      <td>Yes</td>\n",
              "      <td>69</td>\n",
              "      <td>No</td>\n",
              "      <td>NaN</td>\n",
              "      <td>0.0</td>\n",
              "      <td>Low</td>\n",
              "      <td>1.0</td>\n",
              "      <td>Cat_6</td>\n",
              "      <td>-1</td>\n",
              "    </tr>\n",
              "    <tr>\n",
              "      <th>3</th>\n",
              "      <td>459000</td>\n",
              "      <td>Male</td>\n",
              "      <td>Yes</td>\n",
              "      <td>59</td>\n",
              "      <td>No</td>\n",
              "      <td>Executive</td>\n",
              "      <td>11.0</td>\n",
              "      <td>High</td>\n",
              "      <td>2.0</td>\n",
              "      <td>Cat_6</td>\n",
              "      <td>-1</td>\n",
              "    </tr>\n",
              "    <tr>\n",
              "      <th>4</th>\n",
              "      <td>459001</td>\n",
              "      <td>Female</td>\n",
              "      <td>No</td>\n",
              "      <td>19</td>\n",
              "      <td>No</td>\n",
              "      <td>Marketing</td>\n",
              "      <td>NaN</td>\n",
              "      <td>Low</td>\n",
              "      <td>4.0</td>\n",
              "      <td>Cat_6</td>\n",
              "      <td>-1</td>\n",
              "    </tr>\n",
              "  </tbody>\n",
              "</table>\n",
              "</div>"
            ],
            "text/plain": [
              "       ID  Gender Ever_Married  ...  Family_Size  Var_1 Segmentation\n",
              "0  458989  Female          Yes  ...          1.0  Cat_6           -1\n",
              "1  458994    Male          Yes  ...          4.0  Cat_6           -1\n",
              "2  458996  Female          Yes  ...          1.0  Cat_6           -1\n",
              "3  459000    Male          Yes  ...          2.0  Cat_6           -1\n",
              "4  459001  Female           No  ...          4.0  Cat_6           -1\n",
              "\n",
              "[5 rows x 11 columns]"
            ]
          },
          "metadata": {
            "tags": []
          },
          "execution_count": 136
        }
      ]
    },
    {
      "cell_type": "code",
      "metadata": {
        "id": "ZbvLK8SozVkm",
        "colab_type": "code",
        "colab": {}
      },
      "source": [
        "df=pd.concat([train_data,test_data],axis='index')"
      ],
      "execution_count": 137,
      "outputs": []
    },
    {
      "cell_type": "code",
      "metadata": {
        "id": "khPi1cWGzgD0",
        "colab_type": "code",
        "colab": {
          "base_uri": "https://localhost:8080/",
          "height": 224
        },
        "outputId": "baa3dc9a-36d2-44aa-d32c-129101977839"
      },
      "source": [
        "df.head()"
      ],
      "execution_count": 138,
      "outputs": [
        {
          "output_type": "execute_result",
          "data": {
            "text/html": [
              "<div>\n",
              "<style scoped>\n",
              "    .dataframe tbody tr th:only-of-type {\n",
              "        vertical-align: middle;\n",
              "    }\n",
              "\n",
              "    .dataframe tbody tr th {\n",
              "        vertical-align: top;\n",
              "    }\n",
              "\n",
              "    .dataframe thead th {\n",
              "        text-align: right;\n",
              "    }\n",
              "</style>\n",
              "<table border=\"1\" class=\"dataframe\">\n",
              "  <thead>\n",
              "    <tr style=\"text-align: right;\">\n",
              "      <th></th>\n",
              "      <th>ID</th>\n",
              "      <th>Gender</th>\n",
              "      <th>Ever_Married</th>\n",
              "      <th>Age</th>\n",
              "      <th>Graduated</th>\n",
              "      <th>Profession</th>\n",
              "      <th>Work_Experience</th>\n",
              "      <th>Spending_Score</th>\n",
              "      <th>Family_Size</th>\n",
              "      <th>Var_1</th>\n",
              "      <th>Segmentation</th>\n",
              "    </tr>\n",
              "  </thead>\n",
              "  <tbody>\n",
              "    <tr>\n",
              "      <th>0</th>\n",
              "      <td>462809</td>\n",
              "      <td>Male</td>\n",
              "      <td>No</td>\n",
              "      <td>22</td>\n",
              "      <td>No</td>\n",
              "      <td>Healthcare</td>\n",
              "      <td>1.0</td>\n",
              "      <td>Low</td>\n",
              "      <td>4.0</td>\n",
              "      <td>Cat_4</td>\n",
              "      <td>D</td>\n",
              "    </tr>\n",
              "    <tr>\n",
              "      <th>1</th>\n",
              "      <td>462643</td>\n",
              "      <td>Female</td>\n",
              "      <td>Yes</td>\n",
              "      <td>38</td>\n",
              "      <td>Yes</td>\n",
              "      <td>Engineer</td>\n",
              "      <td>NaN</td>\n",
              "      <td>Average</td>\n",
              "      <td>3.0</td>\n",
              "      <td>Cat_4</td>\n",
              "      <td>A</td>\n",
              "    </tr>\n",
              "    <tr>\n",
              "      <th>2</th>\n",
              "      <td>466315</td>\n",
              "      <td>Female</td>\n",
              "      <td>Yes</td>\n",
              "      <td>67</td>\n",
              "      <td>Yes</td>\n",
              "      <td>Engineer</td>\n",
              "      <td>1.0</td>\n",
              "      <td>Low</td>\n",
              "      <td>1.0</td>\n",
              "      <td>Cat_6</td>\n",
              "      <td>B</td>\n",
              "    </tr>\n",
              "    <tr>\n",
              "      <th>3</th>\n",
              "      <td>461735</td>\n",
              "      <td>Male</td>\n",
              "      <td>Yes</td>\n",
              "      <td>67</td>\n",
              "      <td>Yes</td>\n",
              "      <td>Lawyer</td>\n",
              "      <td>0.0</td>\n",
              "      <td>High</td>\n",
              "      <td>2.0</td>\n",
              "      <td>Cat_6</td>\n",
              "      <td>B</td>\n",
              "    </tr>\n",
              "    <tr>\n",
              "      <th>4</th>\n",
              "      <td>462669</td>\n",
              "      <td>Female</td>\n",
              "      <td>Yes</td>\n",
              "      <td>40</td>\n",
              "      <td>Yes</td>\n",
              "      <td>Entertainment</td>\n",
              "      <td>NaN</td>\n",
              "      <td>High</td>\n",
              "      <td>6.0</td>\n",
              "      <td>Cat_6</td>\n",
              "      <td>A</td>\n",
              "    </tr>\n",
              "  </tbody>\n",
              "</table>\n",
              "</div>"
            ],
            "text/plain": [
              "       ID  Gender Ever_Married  ...  Family_Size  Var_1 Segmentation\n",
              "0  462809    Male           No  ...          4.0  Cat_4            D\n",
              "1  462643  Female          Yes  ...          3.0  Cat_4            A\n",
              "2  466315  Female          Yes  ...          1.0  Cat_6            B\n",
              "3  461735    Male          Yes  ...          2.0  Cat_6            B\n",
              "4  462669  Female          Yes  ...          6.0  Cat_6            A\n",
              "\n",
              "[5 rows x 11 columns]"
            ]
          },
          "metadata": {
            "tags": []
          },
          "execution_count": 138
        }
      ]
    },
    {
      "cell_type": "code",
      "metadata": {
        "id": "eVVzf2zBzg4y",
        "colab_type": "code",
        "colab": {
          "base_uri": "https://localhost:8080/",
          "height": 224
        },
        "outputId": "801965b6-f03c-4aa1-ab69-d8ca4dc72cc2"
      },
      "source": [
        "df.tail()"
      ],
      "execution_count": 139,
      "outputs": [
        {
          "output_type": "execute_result",
          "data": {
            "text/html": [
              "<div>\n",
              "<style scoped>\n",
              "    .dataframe tbody tr th:only-of-type {\n",
              "        vertical-align: middle;\n",
              "    }\n",
              "\n",
              "    .dataframe tbody tr th {\n",
              "        vertical-align: top;\n",
              "    }\n",
              "\n",
              "    .dataframe thead th {\n",
              "        text-align: right;\n",
              "    }\n",
              "</style>\n",
              "<table border=\"1\" class=\"dataframe\">\n",
              "  <thead>\n",
              "    <tr style=\"text-align: right;\">\n",
              "      <th></th>\n",
              "      <th>ID</th>\n",
              "      <th>Gender</th>\n",
              "      <th>Ever_Married</th>\n",
              "      <th>Age</th>\n",
              "      <th>Graduated</th>\n",
              "      <th>Profession</th>\n",
              "      <th>Work_Experience</th>\n",
              "      <th>Spending_Score</th>\n",
              "      <th>Family_Size</th>\n",
              "      <th>Var_1</th>\n",
              "      <th>Segmentation</th>\n",
              "    </tr>\n",
              "  </thead>\n",
              "  <tbody>\n",
              "    <tr>\n",
              "      <th>2622</th>\n",
              "      <td>467954</td>\n",
              "      <td>Male</td>\n",
              "      <td>No</td>\n",
              "      <td>29</td>\n",
              "      <td>No</td>\n",
              "      <td>Healthcare</td>\n",
              "      <td>9.0</td>\n",
              "      <td>Low</td>\n",
              "      <td>4.0</td>\n",
              "      <td>Cat_6</td>\n",
              "      <td>-1</td>\n",
              "    </tr>\n",
              "    <tr>\n",
              "      <th>2623</th>\n",
              "      <td>467958</td>\n",
              "      <td>Female</td>\n",
              "      <td>No</td>\n",
              "      <td>35</td>\n",
              "      <td>Yes</td>\n",
              "      <td>Doctor</td>\n",
              "      <td>1.0</td>\n",
              "      <td>Low</td>\n",
              "      <td>1.0</td>\n",
              "      <td>Cat_6</td>\n",
              "      <td>-1</td>\n",
              "    </tr>\n",
              "    <tr>\n",
              "      <th>2624</th>\n",
              "      <td>467960</td>\n",
              "      <td>Female</td>\n",
              "      <td>No</td>\n",
              "      <td>53</td>\n",
              "      <td>Yes</td>\n",
              "      <td>Entertainment</td>\n",
              "      <td>NaN</td>\n",
              "      <td>Low</td>\n",
              "      <td>2.0</td>\n",
              "      <td>Cat_6</td>\n",
              "      <td>-1</td>\n",
              "    </tr>\n",
              "    <tr>\n",
              "      <th>2625</th>\n",
              "      <td>467961</td>\n",
              "      <td>Male</td>\n",
              "      <td>Yes</td>\n",
              "      <td>47</td>\n",
              "      <td>Yes</td>\n",
              "      <td>Executive</td>\n",
              "      <td>1.0</td>\n",
              "      <td>High</td>\n",
              "      <td>5.0</td>\n",
              "      <td>Cat_4</td>\n",
              "      <td>-1</td>\n",
              "    </tr>\n",
              "    <tr>\n",
              "      <th>2626</th>\n",
              "      <td>467968</td>\n",
              "      <td>Female</td>\n",
              "      <td>No</td>\n",
              "      <td>43</td>\n",
              "      <td>Yes</td>\n",
              "      <td>Healthcare</td>\n",
              "      <td>9.0</td>\n",
              "      <td>Low</td>\n",
              "      <td>3.0</td>\n",
              "      <td>Cat_7</td>\n",
              "      <td>-1</td>\n",
              "    </tr>\n",
              "  </tbody>\n",
              "</table>\n",
              "</div>"
            ],
            "text/plain": [
              "          ID  Gender Ever_Married  ...  Family_Size  Var_1 Segmentation\n",
              "2622  467954    Male           No  ...          4.0  Cat_6           -1\n",
              "2623  467958  Female           No  ...          1.0  Cat_6           -1\n",
              "2624  467960  Female           No  ...          2.0  Cat_6           -1\n",
              "2625  467961    Male          Yes  ...          5.0  Cat_4           -1\n",
              "2626  467968  Female           No  ...          3.0  Cat_7           -1\n",
              "\n",
              "[5 rows x 11 columns]"
            ]
          },
          "metadata": {
            "tags": []
          },
          "execution_count": 139
        }
      ]
    },
    {
      "cell_type": "code",
      "metadata": {
        "id": "lyOtP5YYzik7",
        "colab_type": "code",
        "colab": {
          "base_uri": "https://localhost:8080/",
          "height": 34
        },
        "outputId": "0be96d64-87d5-4c14-cb47-b6638dbbdf39"
      },
      "source": [
        "df.shape"
      ],
      "execution_count": 140,
      "outputs": [
        {
          "output_type": "execute_result",
          "data": {
            "text/plain": [
              "(10695, 11)"
            ]
          },
          "metadata": {
            "tags": []
          },
          "execution_count": 140
        }
      ]
    },
    {
      "cell_type": "code",
      "metadata": {
        "id": "SY7XconTzk6i",
        "colab_type": "code",
        "colab": {}
      },
      "source": [
        "df=df.reset_index(drop=True)"
      ],
      "execution_count": 141,
      "outputs": []
    },
    {
      "cell_type": "code",
      "metadata": {
        "id": "unhAuvNoC_4C",
        "colab_type": "code",
        "colab": {}
      },
      "source": [
        "##EDA"
      ],
      "execution_count": 236,
      "outputs": []
    },
    {
      "cell_type": "code",
      "metadata": {
        "id": "BCW2jV92zqFG",
        "colab_type": "code",
        "colab": {
          "base_uri": "https://localhost:8080/",
          "height": 323
        },
        "outputId": "afb28907-946b-4b06-d6a8-d18e19c8c217"
      },
      "source": [
        "df.info()"
      ],
      "execution_count": 142,
      "outputs": [
        {
          "output_type": "stream",
          "text": [
            "<class 'pandas.core.frame.DataFrame'>\n",
            "RangeIndex: 10695 entries, 0 to 10694\n",
            "Data columns (total 11 columns):\n",
            " #   Column           Non-Null Count  Dtype  \n",
            "---  ------           --------------  -----  \n",
            " 0   ID               10695 non-null  int64  \n",
            " 1   Gender           10695 non-null  object \n",
            " 2   Ever_Married     10505 non-null  object \n",
            " 3   Age              10695 non-null  int64  \n",
            " 4   Graduated        10593 non-null  object \n",
            " 5   Profession       10533 non-null  object \n",
            " 6   Work_Experience  9597 non-null   float64\n",
            " 7   Spending_Score   10695 non-null  object \n",
            " 8   Family_Size      10247 non-null  float64\n",
            " 9   Var_1            10587 non-null  object \n",
            " 10  Segmentation     10695 non-null  object \n",
            "dtypes: float64(2), int64(2), object(7)\n",
            "memory usage: 919.2+ KB\n"
          ],
          "name": "stdout"
        }
      ]
    },
    {
      "cell_type": "code",
      "metadata": {
        "id": "uSb7pzWXzrRq",
        "colab_type": "code",
        "colab": {
          "base_uri": "https://localhost:8080/",
          "height": 119
        },
        "outputId": "4f58339a-554f-4ac0-959a-4d4f4a69563c"
      },
      "source": [
        "df['Segmentation'].value_counts()"
      ],
      "execution_count": 16,
      "outputs": [
        {
          "output_type": "execute_result",
          "data": {
            "text/plain": [
              "-1    2627\n",
              "D     2268\n",
              "A     1972\n",
              "C     1970\n",
              "B     1858\n",
              "Name: Segmentation, dtype: int64"
            ]
          },
          "metadata": {
            "tags": []
          },
          "execution_count": 16
        }
      ]
    },
    {
      "cell_type": "code",
      "metadata": {
        "id": "LXvy6Frgzxme",
        "colab_type": "code",
        "colab": {
          "base_uri": "https://localhost:8080/",
          "height": 296
        },
        "outputId": "45ebbc2e-0542-4817-c44c-a6f58fafb001"
      },
      "source": [
        "sns.countplot(df['Segmentation'])"
      ],
      "execution_count": 17,
      "outputs": [
        {
          "output_type": "execute_result",
          "data": {
            "text/plain": [
              "<matplotlib.axes._subplots.AxesSubplot at 0x7f5cd00774a8>"
            ]
          },
          "metadata": {
            "tags": []
          },
          "execution_count": 17
        },
        {
          "output_type": "display_data",
          "data": {
            "image/png": "[encoded data removed]",
            "text/plain": [
              "<Figure size 432x288 with 1 Axes>"
            ]
          },
          "metadata": {
            "tags": [],
            "needs_background": "light"
          }
        }
      ]
    },
    {
      "cell_type": "code",
      "metadata": {
        "id": "LFnCvsp60D68",
        "colab_type": "code",
        "colab": {
          "base_uri": "https://localhost:8080/",
          "height": 85
        },
        "outputId": "692a1b38-eaba-46c7-ebc8-1b3e8fc2c144"
      },
      "source": [
        "df.columns"
      ],
      "execution_count": 18,
      "outputs": [
        {
          "output_type": "execute_result",
          "data": {
            "text/plain": [
              "Index(['ID', 'Gender', 'Ever_Married', 'Age', 'Graduated', 'Profession',\n",
              "       'Work_Experience', 'Spending_Score', 'Family_Size', 'Var_1',\n",
              "       'Segmentation'],\n",
              "      dtype='object')"
            ]
          },
          "metadata": {
            "tags": []
          },
          "execution_count": 18
        }
      ]
    },
    {
      "cell_type": "code",
      "metadata": {
        "id": "eVzMLnWK41Ac",
        "colab_type": "code",
        "colab": {}
      },
      "source": [
        ""
      ],
      "execution_count": 18,
      "outputs": []
    },
    {
      "cell_type": "code",
      "metadata": {
        "id": "xLALI-W10WPA",
        "colab_type": "code",
        "colab": {
          "base_uri": "https://localhost:8080/",
          "height": 624
        },
        "outputId": "bd5ad3cb-52b2-423a-d051-6bee290c7e6f"
      },
      "source": [
        "f, axes = plt.subplots(1, 2, figsize=(10, 10))\n",
        "\n",
        "\n",
        "segments_male = train_data.loc[train_data.Gender == 'Male',\"Segmentation\"].value_counts()\n",
        "sns.barplot(segments_male.index , segments_male.values,  color=\"b\",ax=axes[0]).set_title('Male')\n",
        "\n",
        "\n",
        "\n",
        "segments_female = train_data.loc[train_data.Gender == 'Female',\"Segmentation\"].value_counts()\n",
        "sns.barplot(segments_female.index , segments_female,   color=\"g\",ax=axes[1]).set_title('Female')"
      ],
      "execution_count": 19,
      "outputs": [
        {
          "output_type": "execute_result",
          "data": {
            "text/plain": [
              "Text(0.5, 1.0, 'Female')"
            ]
          },
          "metadata": {
            "tags": []
          },
          "execution_count": 19
        },
        {
          "output_type": "display_data",
          "data": {
            "image/png": "[encoded data removed]",
            "text/plain": [
              "<Figure size 720x720 with 2 Axes>"
            ]
          },
          "metadata": {
            "tags": [],
            "needs_background": "light"
          }
        }
      ]
    },
    {
      "cell_type": "code",
      "metadata": {
        "id": "tG-CO9CX0kzV",
        "colab_type": "code",
        "colab": {
          "base_uri": "https://localhost:8080/",
          "height": 34
        },
        "outputId": "dbbef9c9-36d7-48cb-dbe5-452f9847413d"
      },
      "source": [
        "df['Gender'].isna().sum()"
      ],
      "execution_count": 20,
      "outputs": [
        {
          "output_type": "execute_result",
          "data": {
            "text/plain": [
              "0"
            ]
          },
          "metadata": {
            "tags": []
          },
          "execution_count": 20
        }
      ]
    },
    {
      "cell_type": "code",
      "metadata": {
        "id": "iEnag_Zo1ZAh",
        "colab_type": "code",
        "colab": {
          "base_uri": "https://localhost:8080/",
          "height": 68
        },
        "outputId": "f3dde3d9-716c-4e3a-c716-37bbb66ee787"
      },
      "source": [
        "df['Ever_Married'].value_counts()"
      ],
      "execution_count": 21,
      "outputs": [
        {
          "output_type": "execute_result",
          "data": {
            "text/plain": [
              "Yes    6163\n",
              "No     4342\n",
              "Name: Ever_Married, dtype: int64"
            ]
          },
          "metadata": {
            "tags": []
          },
          "execution_count": 21
        }
      ]
    },
    {
      "cell_type": "code",
      "metadata": {
        "id": "vnz_cwOE6EKw",
        "colab_type": "code",
        "colab": {
          "base_uri": "https://localhost:8080/",
          "height": 624
        },
        "outputId": "07ffcaef-e49c-4cbf-a054-ec967b652318"
      },
      "source": [
        "f,axes=plt.subplots(1,2,figsize=(10,10))\n",
        "seg_Yes=train_data.loc[df.Ever_Married == 'Yes',\"Segmentation\"].value_counts()\n",
        "sns.barplot(seg_Yes.index,seg_Yes,color='b',ax=axes[0]).set_title('Married Segmentation')\n",
        "\n",
        "\n",
        "seg_No=train_data.loc[df.Ever_Married == 'No',\"Segmentation\"].value_counts()\n",
        "sns.barplot(seg_No.index,seg_No,color='r').set_title('Unmarried Segmentation')"
      ],
      "execution_count": 22,
      "outputs": [
        {
          "output_type": "execute_result",
          "data": {
            "text/plain": [
              "Text(0.5, 1.0, 'Unmarried Segmentation')"
            ]
          },
          "metadata": {
            "tags": []
          },
          "execution_count": 22
        },
        {
          "output_type": "display_data",
          "data": {
            "image/png": "[encoded data removed]",
            "text/plain": [
              "<Figure size 720x720 with 2 Axes>"
            ]
          },
          "metadata": {
            "tags": [],
            "needs_background": "light"
          }
        }
      ]
    },
    {
      "cell_type": "code",
      "metadata": {
        "id": "obh7MSgj6D6g",
        "colab_type": "code",
        "colab": {}
      },
      "source": [
        "df['Ever_Married'].fillna('No',inplace=True)"
      ],
      "execution_count": 23,
      "outputs": []
    },
    {
      "cell_type": "code",
      "metadata": {
        "id": "eTEXq7XH6Dtr",
        "colab_type": "code",
        "colab": {
          "base_uri": "https://localhost:8080/",
          "height": 34
        },
        "outputId": "fe193b6a-ad95-4ee8-c654-6dbdfdf26c07"
      },
      "source": [
        "df['Ever_Married'].isna().sum()"
      ],
      "execution_count": 24,
      "outputs": [
        {
          "output_type": "execute_result",
          "data": {
            "text/plain": [
              "0"
            ]
          },
          "metadata": {
            "tags": []
          },
          "execution_count": 24
        }
      ]
    },
    {
      "cell_type": "code",
      "metadata": {
        "id": "rI2SOnPd4BU1",
        "colab_type": "code",
        "colab": {
          "base_uri": "https://localhost:8080/",
          "height": 910
        },
        "outputId": "65cf2c79-4e8a-463b-c9dc-ecf38ccbfc1a"
      },
      "source": [
        "f, axes = plt.subplots(2, 2, figsize=(15, 15))\n",
        "\n",
        "sns.distplot(train_data[train_data.Segmentation =='A'][\"Age\"],  color=\"b\", ax=axes[0, 0]).set_title('Segment : A')\n",
        "\n",
        "sns.distplot(train_data[train_data.Segmentation =='B'][\"Age\"],   color=\"r\", ax=axes[0, 1]).set_title('Segment : B')\n",
        "\n",
        "sns.distplot(train_data[train_data.Segmentation =='C'][\"Age\"],  color=\"g\", ax=axes[1, 0]).set_title('Segment : C')\n",
        "\n",
        "sns.distplot(train_data[train_data.Segmentation =='D'][\"Age\"], color=\"m\", ax=axes[1, 1]).set_title('Segment : D')"
      ],
      "execution_count": 25,
      "outputs": [
        {
          "output_type": "execute_result",
          "data": {
            "text/plain": [
              "Text(0.5, 1.0, 'Segment : D')"
            ]
          },
          "metadata": {
            "tags": []
          },
          "execution_count": 25
        },
        {
          "output_type": "display_data",
          "data": {
            "image/png": "[encoded data removed]",
            "text/plain": [
              "<Figure size 1080x1080 with 4 Axes>"
            ]
          },
          "metadata": {
            "tags": [],
            "needs_background": "light"
          }
        }
      ]
    },
    {
      "cell_type": "code",
      "metadata": {
        "id": "P49XX8qfaVJi",
        "colab_type": "code",
        "colab": {
          "base_uri": "https://localhost:8080/",
          "height": 282
        },
        "outputId": "df050dc6-1394-4af0-c137-1a09493f0b41"
      },
      "source": [
        "(df['Age']).plot(kind='box')"
      ],
      "execution_count": 26,
      "outputs": [
        {
          "output_type": "execute_result",
          "data": {
            "text/plain": [
              "<matplotlib.axes._subplots.AxesSubplot at 0x7f5ccf882160>"
            ]
          },
          "metadata": {
            "tags": []
          },
          "execution_count": 26
        },
        {
          "output_type": "display_data",
          "data": {
            "image/png": "[encoded data removed]",
            "text/plain": [
              "<Figure size 432x288 with 1 Axes>"
            ]
          },
          "metadata": {
            "tags": [],
            "needs_background": "light"
          }
        }
      ]
    },
    {
      "cell_type": "code",
      "metadata": {
        "id": "ExqNZr6ja_j6",
        "colab_type": "code",
        "colab": {
          "base_uri": "https://localhost:8080/",
          "height": 282
        },
        "outputId": "81927f2a-ee3a-48ab-8a5d-951b50526f00"
      },
      "source": [
        "#Removing outliers \n",
        "df['Age']=np.log1p(df['Age'])\n",
        "df['Age'].plot(kind='box')"
      ],
      "execution_count": 27,
      "outputs": [
        {
          "output_type": "execute_result",
          "data": {
            "text/plain": [
              "<matplotlib.axes._subplots.AxesSubplot at 0x7f5ccde636d8>"
            ]
          },
          "metadata": {
            "tags": []
          },
          "execution_count": 27
        },
        {
          "output_type": "display_data",
          "data": {
            "image/png": "[encoded data removed]",
            "text/plain": [
              "<Figure size 432x288 with 1 Axes>"
            ]
          },
          "metadata": {
            "tags": [],
            "needs_background": "light"
          }
        }
      ]
    },
    {
      "cell_type": "code",
      "metadata": {
        "id": "DSlhtNJB4qNt",
        "colab_type": "code",
        "colab": {
          "base_uri": "https://localhost:8080/",
          "height": 85
        },
        "outputId": "84b12967-8f66-4208-a992-e6c18e22a085"
      },
      "source": [
        "train_data.columns"
      ],
      "execution_count": 28,
      "outputs": [
        {
          "output_type": "execute_result",
          "data": {
            "text/plain": [
              "Index(['ID', 'Gender', 'Ever_Married', 'Age', 'Graduated', 'Profession',\n",
              "       'Work_Experience', 'Spending_Score', 'Family_Size', 'Var_1',\n",
              "       'Segmentation'],\n",
              "      dtype='object')"
            ]
          },
          "metadata": {
            "tags": []
          },
          "execution_count": 28
        }
      ]
    },
    {
      "cell_type": "code",
      "metadata": {
        "id": "ljt4EdLD8Zu4",
        "colab_type": "code",
        "colab": {
          "base_uri": "https://localhost:8080/",
          "height": 68
        },
        "outputId": "9874c95d-07e2-4c5c-ab83-4797b63ba15a"
      },
      "source": [
        "df['Graduated'].value_counts()"
      ],
      "execution_count": 29,
      "outputs": [
        {
          "output_type": "execute_result",
          "data": {
            "text/plain": [
              "Yes    6570\n",
              "No     4023\n",
              "Name: Graduated, dtype: int64"
            ]
          },
          "metadata": {
            "tags": []
          },
          "execution_count": 29
        }
      ]
    },
    {
      "cell_type": "code",
      "metadata": {
        "id": "d8kb2atH8eRK",
        "colab_type": "code",
        "colab": {
          "base_uri": "https://localhost:8080/",
          "height": 624
        },
        "outputId": "e57d092e-9071-4a7c-c0c0-45c8d6408100"
      },
      "source": [
        "f,axes=plt.subplots(1,2,figsize=(10,10))\n",
        "\n",
        "seg_grad=train_data[train_data['Graduated']=='Yes']['Segmentation'].value_counts()\n",
        "sns.barplot(seg_grad.index,seg_grad,color='g',ax=axes[0]).set_title('Graduated Segmentation')\n",
        "\n",
        "seg_nongrad=train_data[train_data['Graduated']=='No']['Segmentation'].value_counts()\n",
        "sns.barplot(seg_nongrad.index,seg_nongrad,color='r',ax=axes[1]).set_title('Graduated Segmentation')"
      ],
      "execution_count": 30,
      "outputs": [
        {
          "output_type": "execute_result",
          "data": {
            "text/plain": [
              "Text(0.5, 1.0, 'Graduated Segmentation')"
            ]
          },
          "metadata": {
            "tags": []
          },
          "execution_count": 30
        },
        {
          "output_type": "display_data",
          "data": {
            "image/png": "[encoded data removed]",
            "text/plain": [
              "<Figure size 720x720 with 2 Axes>"
            ]
          },
          "metadata": {
            "tags": [],
            "needs_background": "light"
          }
        }
      ]
    },
    {
      "cell_type": "code",
      "metadata": {
        "id": "fFxVg277byxT",
        "colab_type": "code",
        "colab": {
          "base_uri": "https://localhost:8080/",
          "height": 34
        },
        "outputId": "c560286a-c399-4bdf-d6db-501338702980"
      },
      "source": [
        "df['Graduated'].isna().sum()"
      ],
      "execution_count": 31,
      "outputs": [
        {
          "output_type": "execute_result",
          "data": {
            "text/plain": [
              "102"
            ]
          },
          "metadata": {
            "tags": []
          },
          "execution_count": 31
        }
      ]
    },
    {
      "cell_type": "code",
      "metadata": {
        "id": "SBcMPQXlbzAJ",
        "colab_type": "code",
        "colab": {}
      },
      "source": [
        "df['Graduated'].fillna('No',inplace=True)"
      ],
      "execution_count": 32,
      "outputs": []
    },
    {
      "cell_type": "code",
      "metadata": {
        "id": "Kn-0xK7V8oW0",
        "colab_type": "code",
        "colab": {
          "base_uri": "https://localhost:8080/",
          "height": 187
        },
        "outputId": "8f7a1707-297c-47d6-bb6e-cc0ca157366f"
      },
      "source": [
        "train_data[train_data['Segmentation']=='A']['Profession'].value_counts()\n"
      ],
      "execution_count": 33,
      "outputs": [
        {
          "output_type": "execute_result",
          "data": {
            "text/plain": [
              "Artist           558\n",
              "Entertainment    365\n",
              "Engineer         259\n",
              "Doctor           199\n",
              "Lawyer           197\n",
              "Executive        125\n",
              "Healthcare       106\n",
              "Homemaker         73\n",
              "Marketing         57\n",
              "Name: Profession, dtype: int64"
            ]
          },
          "metadata": {
            "tags": []
          },
          "execution_count": 33
        }
      ]
    },
    {
      "cell_type": "code",
      "metadata": {
        "id": "Ul2I8i3c9xtZ",
        "colab_type": "code",
        "colab": {
          "base_uri": "https://localhost:8080/",
          "height": 187
        },
        "outputId": "2cbbda62-3424-4a93-9b96-8a384b50b78e"
      },
      "source": [
        "df['Profession'].value_counts()"
      ],
      "execution_count": 34,
      "outputs": [
        {
          "output_type": "execute_result",
          "data": {
            "text/plain": [
              "Artist           3318\n",
              "Healthcare       1750\n",
              "Entertainment    1250\n",
              "Engineer          935\n",
              "Doctor            930\n",
              "Lawyer            844\n",
              "Executive         775\n",
              "Marketing         403\n",
              "Homemaker         328\n",
              "Name: Profession, dtype: int64"
            ]
          },
          "metadata": {
            "tags": []
          },
          "execution_count": 34
        }
      ]
    },
    {
      "cell_type": "code",
      "metadata": {
        "id": "p5uzYON-928E",
        "colab_type": "code",
        "colab": {
          "base_uri": "https://localhost:8080/",
          "height": 729
        },
        "outputId": "350dde1b-6d81-438a-d9c9-041f0be54ada"
      },
      "source": [
        "f,axes=plt.subplots(2,2,figsize=(10,10))\n",
        "\n",
        "seg_Apro=train_data[train_data['Segmentation']=='A']['Profession'].value_counts()\n",
        "sns.barplot(seg_Apro.index,seg_Apro,color='g',ax=axes[0,0]).set_title('A Segmentation with Profession')\n",
        "\n",
        "\n",
        "\n",
        "seg_Bpro=train_data[train_data['Segmentation']=='B']['Profession'].value_counts()\n",
        "sns.barplot(seg_Bpro.index,seg_Bpro,color='r',ax=axes[0,1]).set_title('B Segmentation with Profession')\n",
        "\n",
        "\n",
        "\n",
        "seg_Cpro=train_data[train_data['Segmentation']=='C']['Profession'].value_counts()\n",
        "sns.barplot(seg_Cpro.index,seg_Cpro,color='b',ax=axes[1,0]).set_title('C Segmentation with Profession')\n",
        "\n",
        "\n",
        "\n",
        "seg_Dpro=train_data[train_data['Segmentation']=='D']['Profession'].value_counts()\n",
        "sns.barplot(seg_Dpro.index,seg_Dpro,color='m',ax=axes[1,1]).set_title('D Segmentation with Profession')\n",
        "\n",
        "for ax in f.axes:\n",
        "    plt.sca(ax)\n",
        "    plt.xticks(rotation=90)\n",
        "plt.tight_layout()"
      ],
      "execution_count": 35,
      "outputs": [
        {
          "output_type": "display_data",
          "data": {
            "image/png": "[encoded data removed]",
            "text/plain": [
              "<Figure size 720x720 with 4 Axes>"
            ]
          },
          "metadata": {
            "tags": [],
            "needs_background": "light"
          }
        }
      ]
    },
    {
      "cell_type": "code",
      "metadata": {
        "id": "bZXXKiOMcMhY",
        "colab_type": "code",
        "colab": {
          "base_uri": "https://localhost:8080/",
          "height": 34
        },
        "outputId": "70dba1eb-2cbc-446a-c6a6-864255353449"
      },
      "source": [
        "df['Profession'].isna().sum()"
      ],
      "execution_count": 143,
      "outputs": [
        {
          "output_type": "execute_result",
          "data": {
            "text/plain": [
              "162"
            ]
          },
          "metadata": {
            "tags": []
          },
          "execution_count": 143
        }
      ]
    },
    {
      "cell_type": "code",
      "metadata": {
        "id": "OI73VnQucMvI",
        "colab_type": "code",
        "colab": {}
      },
      "source": [
        "df['Profession'].fillna('Unemployed',inplace=True)"
      ],
      "execution_count": 144,
      "outputs": []
    },
    {
      "cell_type": "code",
      "metadata": {
        "id": "_XItVh6K-FFj",
        "colab_type": "code",
        "colab": {
          "base_uri": "https://localhost:8080/",
          "height": 85
        },
        "outputId": "f7bca81e-02bc-4c3a-9488-88c3ecd77326"
      },
      "source": [
        "df.columns"
      ],
      "execution_count": 38,
      "outputs": [
        {
          "output_type": "execute_result",
          "data": {
            "text/plain": [
              "Index(['ID', 'Gender', 'Ever_Married', 'Age', 'Graduated', 'Profession',\n",
              "       'Work_Experience', 'Spending_Score', 'Family_Size', 'Var_1',\n",
              "       'Segmentation'],\n",
              "      dtype='object')"
            ]
          },
          "metadata": {
            "tags": []
          },
          "execution_count": 38
        }
      ]
    },
    {
      "cell_type": "code",
      "metadata": {
        "id": "XpVKByjDDa9f",
        "colab_type": "code",
        "colab": {
          "base_uri": "https://localhost:8080/",
          "height": 289
        },
        "outputId": "bc5e7116-3463-4a1a-914b-d573fbe6482c"
      },
      "source": [
        "train_data['Work_Experience'].value_counts()"
      ],
      "execution_count": 39,
      "outputs": [
        {
          "output_type": "execute_result",
          "data": {
            "text/plain": [
              "1.0     2354\n",
              "0.0     2318\n",
              "9.0      474\n",
              "8.0      463\n",
              "2.0      286\n",
              "3.0      255\n",
              "4.0      253\n",
              "6.0      204\n",
              "7.0      196\n",
              "5.0      194\n",
              "10.0      53\n",
              "11.0      50\n",
              "12.0      48\n",
              "13.0      46\n",
              "14.0      45\n",
              "Name: Work_Experience, dtype: int64"
            ]
          },
          "metadata": {
            "tags": []
          },
          "execution_count": 39
        }
      ]
    },
    {
      "cell_type": "code",
      "metadata": {
        "id": "F1GLkVJ2DjCM",
        "colab_type": "code",
        "colab": {
          "base_uri": "https://localhost:8080/",
          "height": 911
        },
        "outputId": "0bcf75f1-15e8-46f2-e394-662fd5eba1d8"
      },
      "source": [
        "f, axes = plt.subplots(2, 2, figsize=(15, 15))\n",
        "\n",
        "sns.distplot(train_data[train_data.Segmentation =='A'][\"Work_Experience\"],  color=\"b\", ax=axes[0, 0]).set_title('Segment : A')\n",
        "\n",
        "sns.distplot(train_data[train_data.Segmentation =='B'][\"Work_Experience\"],   color=\"r\", ax=axes[0, 1]).set_title('Segment : B')\n",
        "\n",
        "sns.distplot(train_data[train_data.Segmentation =='C'][\"Work_Experience\"],  color=\"g\", ax=axes[1, 0]).set_title('Segment : C')\n",
        "\n",
        "sns.distplot(train_data[train_data.Segmentation =='D'][\"Work_Experience\"], color=\"m\", ax=axes[1, 1]).set_title('Segment : D')"
      ],
      "execution_count": 40,
      "outputs": [
        {
          "output_type": "execute_result",
          "data": {
            "text/plain": [
              "Text(0.5, 1.0, 'Segment : D')"
            ]
          },
          "metadata": {
            "tags": []
          },
          "execution_count": 40
        },
        {
          "output_type": "display_data",
          "data": {
            "image/png": "[encoded data removed]",
            "text/plain": [
              "<Figure size 1080x1080 with 4 Axes>"
            ]
          },
          "metadata": {
            "tags": [],
            "needs_background": "light"
          }
        }
      ]
    },
    {
      "cell_type": "code",
      "metadata": {
        "id": "pIGrSq3hdYpC",
        "colab_type": "code",
        "colab": {
          "base_uri": "https://localhost:8080/",
          "height": 34
        },
        "outputId": "1b0cc686-85c8-4c24-c073-44a2d6b13a90"
      },
      "source": [
        "df['Work_Experience'].isna().sum()"
      ],
      "execution_count": 41,
      "outputs": [
        {
          "output_type": "execute_result",
          "data": {
            "text/plain": [
              "1098"
            ]
          },
          "metadata": {
            "tags": []
          },
          "execution_count": 41
        }
      ]
    },
    {
      "cell_type": "code",
      "metadata": {
        "id": "fzRafVBOdY34",
        "colab_type": "code",
        "colab": {}
      },
      "source": [
        ""
      ],
      "execution_count": 41,
      "outputs": []
    },
    {
      "cell_type": "code",
      "metadata": {
        "id": "cnEsYK9DD7Es",
        "colab_type": "code",
        "colab": {
          "base_uri": "https://localhost:8080/",
          "height": 85
        },
        "outputId": "579e5c74-c44e-4851-a32a-b571a617d485"
      },
      "source": [
        "df.columns"
      ],
      "execution_count": 42,
      "outputs": [
        {
          "output_type": "execute_result",
          "data": {
            "text/plain": [
              "Index(['ID', 'Gender', 'Ever_Married', 'Age', 'Graduated', 'Profession',\n",
              "       'Work_Experience', 'Spending_Score', 'Family_Size', 'Var_1',\n",
              "       'Segmentation'],\n",
              "      dtype='object')"
            ]
          },
          "metadata": {
            "tags": []
          },
          "execution_count": 42
        }
      ]
    },
    {
      "cell_type": "code",
      "metadata": {
        "id": "2Hqu8XM5EGMa",
        "colab_type": "code",
        "colab": {
          "base_uri": "https://localhost:8080/",
          "height": 85
        },
        "outputId": "e19e6ea9-851d-44f3-cad8-707b6ced7767"
      },
      "source": [
        "df['Spending_Score'].value_counts()"
      ],
      "execution_count": 43,
      "outputs": [
        {
          "output_type": "execute_result",
          "data": {
            "text/plain": [
              "Low        6494\n",
              "Average    2599\n",
              "High       1602\n",
              "Name: Spending_Score, dtype: int64"
            ]
          },
          "metadata": {
            "tags": []
          },
          "execution_count": 43
        }
      ]
    },
    {
      "cell_type": "code",
      "metadata": {
        "id": "zDTeIGzLEJl3",
        "colab_type": "code",
        "colab": {
          "base_uri": "https://localhost:8080/",
          "height": 729
        },
        "outputId": "d429c271-c0ed-475e-91c7-4a4dc42a4f19"
      },
      "source": [
        "f,axes=plt.subplots(2,2,figsize=(10,10))\n",
        "\n",
        "seg_Apro=train_data[train_data['Segmentation']=='A']['Spending_Score'].value_counts()\n",
        "sns.barplot(seg_Apro.index,seg_Apro,color='g',ax=axes[0,0]).set_title('A Segmentation with Spending_Score')\n",
        "\n",
        "\n",
        "\n",
        "seg_Bpro=train_data[train_data['Segmentation']=='B']['Spending_Score'].value_counts()\n",
        "sns.barplot(seg_Bpro.index,seg_Bpro,color='r',ax=axes[0,1]).set_title('B Segmentation with Spending_Score')\n",
        "\n",
        "\n",
        "\n",
        "seg_Cpro=train_data[train_data['Segmentation']=='C']['Spending_Score'].value_counts()\n",
        "sns.barplot(seg_Cpro.index,seg_Cpro,color='b',ax=axes[1,0]).set_title('C Segmentation with Spending_Score')\n",
        "\n",
        "\n",
        "\n",
        "seg_Dpro=train_data[train_data['Segmentation']=='D']['Spending_Score'].value_counts()\n",
        "sns.barplot(seg_Dpro.index,seg_Dpro,color='m',ax=axes[1,1]).set_title('D Segmentation with Spending_Score')\n",
        "\n",
        "# for ax in f.axes:\n",
        "    # plt.sca(ax)\n",
        "    # plt.xticks(rotation=90)\n",
        "plt.tight_layout()"
      ],
      "execution_count": 44,
      "outputs": [
        {
          "output_type": "display_data",
          "data": {
            "image/png": "[encoded data removed]",
            "text/plain": [
              "<Figure size 720x720 with 4 Axes>"
            ]
          },
          "metadata": {
            "tags": [],
            "needs_background": "light"
          }
        }
      ]
    },
    {
      "cell_type": "code",
      "metadata": {
        "id": "2YM407DiElJQ",
        "colab_type": "code",
        "colab": {
          "base_uri": "https://localhost:8080/",
          "height": 85
        },
        "outputId": "33385c7a-c22a-44d5-a303-d391cb4073b9"
      },
      "source": [
        "df.columns"
      ],
      "execution_count": 45,
      "outputs": [
        {
          "output_type": "execute_result",
          "data": {
            "text/plain": [
              "Index(['ID', 'Gender', 'Ever_Married', 'Age', 'Graduated', 'Profession',\n",
              "       'Work_Experience', 'Spending_Score', 'Family_Size', 'Var_1',\n",
              "       'Segmentation'],\n",
              "      dtype='object')"
            ]
          },
          "metadata": {
            "tags": []
          },
          "execution_count": 45
        }
      ]
    },
    {
      "cell_type": "code",
      "metadata": {
        "id": "kmhxAvJ3F9TL",
        "colab_type": "code",
        "colab": {
          "base_uri": "https://localhost:8080/",
          "height": 187
        },
        "outputId": "b12e5c6b-afe5-4203-eddf-cd28a3015762"
      },
      "source": [
        "df['Family_Size'].value_counts()"
      ],
      "execution_count": 46,
      "outputs": [
        {
          "output_type": "execute_result",
          "data": {
            "text/plain": [
              "2.0    3158\n",
              "1.0    1965\n",
              "3.0    1952\n",
              "4.0    1823\n",
              "5.0     812\n",
              "6.0     290\n",
              "7.0     122\n",
              "8.0      65\n",
              "9.0      60\n",
              "Name: Family_Size, dtype: int64"
            ]
          },
          "metadata": {
            "tags": []
          },
          "execution_count": 46
        }
      ]
    },
    {
      "cell_type": "code",
      "metadata": {
        "id": "RsRoY--cGBDf",
        "colab_type": "code",
        "colab": {
          "base_uri": "https://localhost:8080/",
          "height": 911
        },
        "outputId": "91f59664-0f43-42b7-c157-8b03a3a27efa"
      },
      "source": [
        "f, axes = plt.subplots(2, 2, figsize=(15, 15))\n",
        "\n",
        "sns.distplot(train_data[train_data.Segmentation =='A'][\"Family_Size\"],  color=\"b\", ax=axes[0, 0]).set_title('Segment : A')\n",
        "\n",
        "sns.distplot(train_data[train_data.Segmentation =='B'][\"Family_Size\"],   color=\"r\", ax=axes[0, 1]).set_title('Segment : B')\n",
        "\n",
        "sns.distplot(train_data[train_data.Segmentation =='C'][\"Family_Size\"],  color=\"g\", ax=axes[1, 0]).set_title('Segment : C')\n",
        "\n",
        "sns.distplot(train_data[train_data.Segmentation =='D'][\"Family_Size\"], color=\"m\", ax=axes[1, 1]).set_title('Segment : D')"
      ],
      "execution_count": 47,
      "outputs": [
        {
          "output_type": "execute_result",
          "data": {
            "text/plain": [
              "Text(0.5, 1.0, 'Segment : D')"
            ]
          },
          "metadata": {
            "tags": []
          },
          "execution_count": 47
        },
        {
          "output_type": "display_data",
          "data": {
            "image/png": "[encoded data removed]",
            "text/plain": [
              "<Figure size 1080x1080 with 4 Axes>"
            ]
          },
          "metadata": {
            "tags": [],
            "needs_background": "light"
          }
        }
      ]
    },
    {
      "cell_type": "code",
      "metadata": {
        "id": "56hBV7ryJWYz",
        "colab_type": "code",
        "colab": {
          "base_uri": "https://localhost:8080/",
          "height": 85
        },
        "outputId": "6d4f527a-5851-439f-c54f-ea051a17d69a"
      },
      "source": [
        "df.columns"
      ],
      "execution_count": 48,
      "outputs": [
        {
          "output_type": "execute_result",
          "data": {
            "text/plain": [
              "Index(['ID', 'Gender', 'Ever_Married', 'Age', 'Graduated', 'Profession',\n",
              "       'Work_Experience', 'Spending_Score', 'Family_Size', 'Var_1',\n",
              "       'Segmentation'],\n",
              "      dtype='object')"
            ]
          },
          "metadata": {
            "tags": []
          },
          "execution_count": 48
        }
      ]
    },
    {
      "cell_type": "code",
      "metadata": {
        "id": "oXUNkdh9JeTc",
        "colab_type": "code",
        "colab": {
          "base_uri": "https://localhost:8080/",
          "height": 153
        },
        "outputId": "68c274bb-a9ce-4cff-f607-0854e536b1d0"
      },
      "source": [
        "df['Var_1'].value_counts()"
      ],
      "execution_count": 49,
      "outputs": [
        {
          "output_type": "execute_result",
          "data": {
            "text/plain": [
              "Cat_6    6910\n",
              "Cat_4    1475\n",
              "Cat_3    1089\n",
              "Cat_2     563\n",
              "Cat_7     269\n",
              "Cat_1     167\n",
              "Cat_5     114\n",
              "Name: Var_1, dtype: int64"
            ]
          },
          "metadata": {
            "tags": []
          },
          "execution_count": 49
        }
      ]
    },
    {
      "cell_type": "code",
      "metadata": {
        "id": "dtoTgSjdJhv6",
        "colab_type": "code",
        "colab": {
          "base_uri": "https://localhost:8080/",
          "height": 729
        },
        "outputId": "8b5c5fad-5484-4f4a-c890-00cf5b652b30"
      },
      "source": [
        "f,axes=plt.subplots(2,2,figsize=(10,10))\n",
        "\n",
        "seg_Apro=train_data[train_data['Segmentation']=='A']['Var_1'].value_counts()\n",
        "sns.barplot(seg_Apro.index,seg_Apro,color='g',ax=axes[0,0]).set_title('A Segmentation with Var_1')\n",
        "\n",
        "\n",
        "\n",
        "seg_Bpro=train_data[train_data['Segmentation']=='B']['Var_1'].value_counts()\n",
        "sns.barplot(seg_Bpro.index,seg_Bpro,color='r',ax=axes[0,1]).set_title('B Segmentation with Var_1')\n",
        "\n",
        "\n",
        "\n",
        "seg_Cpro=train_data[train_data['Segmentation']=='C']['Var_1'].value_counts()\n",
        "sns.barplot(seg_Cpro.index,seg_Cpro,color='b',ax=axes[1,0]).set_title('C Segmentation with Var_1')\n",
        "\n",
        "\n",
        "\n",
        "seg_Dpro=train_data[train_data['Segmentation']=='D']['Var_1'].value_counts()\n",
        "sns.barplot(seg_Dpro.index,seg_Dpro,color='m',ax=axes[1,1]).set_title('D Segmentation with Var_1')\n",
        "\n",
        "# for ax in f.axes:\n",
        "    # plt.sca(ax)\n",
        "    # plt.xticks(rotation=90)\n",
        "plt.tight_layout()"
      ],
      "execution_count": 50,
      "outputs": [
        {
          "output_type": "display_data",
          "data": {
            "image/png": "[encoded data removed]",
            "text/plain": [
              "<Figure size 720x720 with 4 Axes>"
            ]
          },
          "metadata": {
            "tags": [],
            "needs_background": "light"
          }
        }
      ]
    },
    {
      "cell_type": "code",
      "metadata": {
        "id": "mLwuUDxLKbIW",
        "colab_type": "code",
        "colab": {
          "base_uri": "https://localhost:8080/",
          "height": 323
        },
        "outputId": "7798ff27-a40d-46c2-b1b6-810dca142294"
      },
      "source": [
        "df.info()"
      ],
      "execution_count": 51,
      "outputs": [
        {
          "output_type": "stream",
          "text": [
            "<class 'pandas.core.frame.DataFrame'>\n",
            "RangeIndex: 10695 entries, 0 to 10694\n",
            "Data columns (total 11 columns):\n",
            " #   Column           Non-Null Count  Dtype  \n",
            "---  ------           --------------  -----  \n",
            " 0   ID               10695 non-null  int64  \n",
            " 1   Gender           10695 non-null  object \n",
            " 2   Ever_Married     10695 non-null  object \n",
            " 3   Age              10695 non-null  float64\n",
            " 4   Graduated        10695 non-null  object \n",
            " 5   Profession       10695 non-null  object \n",
            " 6   Work_Experience  9597 non-null   float64\n",
            " 7   Spending_Score   10695 non-null  object \n",
            " 8   Family_Size      10247 non-null  float64\n",
            " 9   Var_1            10587 non-null  object \n",
            " 10  Segmentation     10695 non-null  object \n",
            "dtypes: float64(3), int64(1), object(7)\n",
            "memory usage: 919.2+ KB\n"
          ],
          "name": "stdout"
        }
      ]
    },
    {
      "cell_type": "code",
      "metadata": {
        "id": "axO8D6J_MhgR",
        "colab_type": "code",
        "colab": {
          "base_uri": "https://localhost:8080/",
          "height": 34
        },
        "outputId": "10944ed1-35b2-4839-9a3f-657fcc8a4ddf"
      },
      "source": [
        "max(df['Age'])"
      ],
      "execution_count": 145,
      "outputs": [
        {
          "output_type": "execute_result",
          "data": {
            "text/plain": [
              "89"
            ]
          },
          "metadata": {
            "tags": []
          },
          "execution_count": 145
        }
      ]
    },
    {
      "cell_type": "code",
      "metadata": {
        "id": "4aBTSyH6Md59",
        "colab_type": "code",
        "colab": {}
      },
      "source": [
        "def get_age_groups(x):\n",
        "    if x <= 25:\n",
        "        return '0-25'\n",
        "    if x > 25 and x<=35:\n",
        "        return '25-35'\n",
        "    if x>35 and x<=45:\n",
        "        return '35-45'\n",
        "    if x>45 and x<=55:\n",
        "        return '45-55'\n",
        "    if x>55 and x<=65:\n",
        "        return '55-65'\n",
        "    else:\n",
        "        return '65-100'"
      ],
      "execution_count": 146,
      "outputs": []
    },
    {
      "cell_type": "code",
      "metadata": {
        "id": "jmz1UwOeKmk5",
        "colab_type": "code",
        "colab": {}
      },
      "source": [
        "gender = {'Male':0,'Female':1}\n",
        "Ever_Married = {'No':1,'Yes':2,'unk':0}\n",
        "graduate = {'No':1,'Yes':2,'unk':0}\n",
        "spend_score ={'Low':0,'Average':1,'High':2}\n",
        "cat_var = {'unk':0,'Cat_1': 1,'Cat_2': 2,'Cat_3': 3,'Cat_4': 4,'Cat_5': 5,'Cat_6': 6,'Cat_7': 7}\n",
        "seg ={'A':0,'B':1,'C':2,'D':3}\n",
        "agegroup={'35-45': 3,\n",
        " '25-35': 2,\n",
        " '45-55': 4,\n",
        " '65-100': 6,\n",
        " '0-25': 1,\n",
        " '55-65': 5}"
      ],
      "execution_count": 147,
      "outputs": []
    },
    {
      "cell_type": "code",
      "metadata": {
        "id": "OGgSdGDNZzV7",
        "colab_type": "code",
        "colab": {}
      },
      "source": [
        "df['Age_groups']=df['Age'].apply(lambda x: get_age_groups(x))"
      ],
      "execution_count": 148,
      "outputs": []
    },
    {
      "cell_type": "code",
      "metadata": {
        "id": "-nyskozGi8SO",
        "colab_type": "code",
        "colab": {}
      },
      "source": [
        "df['Gender']=df['Gender'].map(gender)"
      ],
      "execution_count": 149,
      "outputs": []
    },
    {
      "cell_type": "code",
      "metadata": {
        "id": "8WT6y7bwdexb",
        "colab_type": "code",
        "colab": {
          "base_uri": "https://localhost:8080/",
          "height": 238
        },
        "outputId": "1ae24268-ff4f-4f4c-e58a-0be736bef7f6"
      },
      "source": [
        "df.isna().sum()"
      ],
      "execution_count": 150,
      "outputs": [
        {
          "output_type": "execute_result",
          "data": {
            "text/plain": [
              "ID                    0\n",
              "Gender                0\n",
              "Ever_Married        190\n",
              "Age                   0\n",
              "Graduated           102\n",
              "Profession            0\n",
              "Work_Experience    1098\n",
              "Spending_Score        0\n",
              "Family_Size         448\n",
              "Var_1               108\n",
              "Segmentation          0\n",
              "Age_groups            0\n",
              "dtype: int64"
            ]
          },
          "metadata": {
            "tags": []
          },
          "execution_count": 150
        }
      ]
    },
    {
      "cell_type": "code",
      "metadata": {
        "id": "3xUCJnHigd_D",
        "colab_type": "code",
        "colab": {}
      },
      "source": [
        "df['Ever_Married'].fillna('unk',inplace=True)"
      ],
      "execution_count": 151,
      "outputs": []
    },
    {
      "cell_type": "code",
      "metadata": {
        "id": "XOsWQuZ_gfM3",
        "colab_type": "code",
        "colab": {}
      },
      "source": [
        "df['Graduated'].fillna('unk',inplace=True)"
      ],
      "execution_count": 152,
      "outputs": []
    },
    {
      "cell_type": "code",
      "metadata": {
        "id": "LTh6XhX3drAR",
        "colab_type": "code",
        "colab": {}
      },
      "source": [
        "df['Var_1'].fillna('unk',inplace=True)"
      ],
      "execution_count": 153,
      "outputs": []
    },
    {
      "cell_type": "code",
      "metadata": {
        "id": "8f5yMh_2gtct",
        "colab_type": "code",
        "colab": {
          "base_uri": "https://localhost:8080/",
          "height": 238
        },
        "outputId": "a0bf12bc-6d67-4786-ffc7-369e6ac579aa"
      },
      "source": [
        "df.isna().sum()"
      ],
      "execution_count": 154,
      "outputs": [
        {
          "output_type": "execute_result",
          "data": {
            "text/plain": [
              "ID                    0\n",
              "Gender                0\n",
              "Ever_Married          0\n",
              "Age                   0\n",
              "Graduated             0\n",
              "Profession            0\n",
              "Work_Experience    1098\n",
              "Spending_Score        0\n",
              "Family_Size         448\n",
              "Var_1                 0\n",
              "Segmentation          0\n",
              "Age_groups            0\n",
              "dtype: int64"
            ]
          },
          "metadata": {
            "tags": []
          },
          "execution_count": 154
        }
      ]
    },
    {
      "cell_type": "code",
      "metadata": {
        "id": "GGFNuMuvZyN7",
        "colab_type": "code",
        "colab": {}
      },
      "source": [
        "# df['Gender'] = df['Gender'].map(gender)\n",
        "df['Ever_Married'] = df['Ever_Married'].map(Ever_Married)\n",
        "df['Graduated'] = df['Graduated'].map(graduate)\n",
        "df['Spending_Score'] = df['Spending_Score'].map(spend_score)\n",
        "df['Var_1'] = df['Var_1'].map(cat_var)\n",
        "# df['Segmentation'] = df['Segmentation'].map(seg).astype('int')"
      ],
      "execution_count": 155,
      "outputs": []
    },
    {
      "cell_type": "code",
      "metadata": {
        "id": "Mm4zlwDfhlSl",
        "colab_type": "code",
        "colab": {}
      },
      "source": [
        "# df['Age_groups']=df['Age_groups'].map(agegroup)"
      ],
      "execution_count": 63,
      "outputs": []
    },
    {
      "cell_type": "code",
      "metadata": {
        "id": "d2cWR_v7h1iW",
        "colab_type": "code",
        "colab": {}
      },
      "source": [
        "df['Segmentation'].replace({'D':3, 'A':0, 'B':1, 'C':2},inplace=True)"
      ],
      "execution_count": 156,
      "outputs": []
    },
    {
      "cell_type": "code",
      "metadata": {
        "id": "yH4vGIVyhxv6",
        "colab_type": "code",
        "colab": {
          "base_uri": "https://localhost:8080/",
          "height": 224
        },
        "outputId": "b47bc44d-f441-414d-a59f-2e4122fd6a26"
      },
      "source": [
        "df.head()"
      ],
      "execution_count": 157,
      "outputs": [
        {
          "output_type": "execute_result",
          "data": {
            "text/html": [
              "<div>\n",
              "<style scoped>\n",
              "    .dataframe tbody tr th:only-of-type {\n",
              "        vertical-align: middle;\n",
              "    }\n",
              "\n",
              "    .dataframe tbody tr th {\n",
              "        vertical-align: top;\n",
              "    }\n",
              "\n",
              "    .dataframe thead th {\n",
              "        text-align: right;\n",
              "    }\n",
              "</style>\n",
              "<table border=\"1\" class=\"dataframe\">\n",
              "  <thead>\n",
              "    <tr style=\"text-align: right;\">\n",
              "      <th></th>\n",
              "      <th>ID</th>\n",
              "      <th>Gender</th>\n",
              "      <th>Ever_Married</th>\n",
              "      <th>Age</th>\n",
              "      <th>Graduated</th>\n",
              "      <th>Profession</th>\n",
              "      <th>Work_Experience</th>\n",
              "      <th>Spending_Score</th>\n",
              "      <th>Family_Size</th>\n",
              "      <th>Var_1</th>\n",
              "      <th>Segmentation</th>\n",
              "      <th>Age_groups</th>\n",
              "    </tr>\n",
              "  </thead>\n",
              "  <tbody>\n",
              "    <tr>\n",
              "      <th>0</th>\n",
              "      <td>462809</td>\n",
              "      <td>0</td>\n",
              "      <td>1</td>\n",
              "      <td>22</td>\n",
              "      <td>1</td>\n",
              "      <td>Healthcare</td>\n",
              "      <td>1.0</td>\n",
              "      <td>0</td>\n",
              "      <td>4.0</td>\n",
              "      <td>4</td>\n",
              "      <td>3</td>\n",
              "      <td>0-25</td>\n",
              "    </tr>\n",
              "    <tr>\n",
              "      <th>1</th>\n",
              "      <td>462643</td>\n",
              "      <td>1</td>\n",
              "      <td>2</td>\n",
              "      <td>38</td>\n",
              "      <td>2</td>\n",
              "      <td>Engineer</td>\n",
              "      <td>NaN</td>\n",
              "      <td>1</td>\n",
              "      <td>3.0</td>\n",
              "      <td>4</td>\n",
              "      <td>0</td>\n",
              "      <td>35-45</td>\n",
              "    </tr>\n",
              "    <tr>\n",
              "      <th>2</th>\n",
              "      <td>466315</td>\n",
              "      <td>1</td>\n",
              "      <td>2</td>\n",
              "      <td>67</td>\n",
              "      <td>2</td>\n",
              "      <td>Engineer</td>\n",
              "      <td>1.0</td>\n",
              "      <td>0</td>\n",
              "      <td>1.0</td>\n",
              "      <td>6</td>\n",
              "      <td>1</td>\n",
              "      <td>65-100</td>\n",
              "    </tr>\n",
              "    <tr>\n",
              "      <th>3</th>\n",
              "      <td>461735</td>\n",
              "      <td>0</td>\n",
              "      <td>2</td>\n",
              "      <td>67</td>\n",
              "      <td>2</td>\n",
              "      <td>Lawyer</td>\n",
              "      <td>0.0</td>\n",
              "      <td>2</td>\n",
              "      <td>2.0</td>\n",
              "      <td>6</td>\n",
              "      <td>1</td>\n",
              "      <td>65-100</td>\n",
              "    </tr>\n",
              "    <tr>\n",
              "      <th>4</th>\n",
              "      <td>462669</td>\n",
              "      <td>1</td>\n",
              "      <td>2</td>\n",
              "      <td>40</td>\n",
              "      <td>2</td>\n",
              "      <td>Entertainment</td>\n",
              "      <td>NaN</td>\n",
              "      <td>2</td>\n",
              "      <td>6.0</td>\n",
              "      <td>6</td>\n",
              "      <td>0</td>\n",
              "      <td>35-45</td>\n",
              "    </tr>\n",
              "  </tbody>\n",
              "</table>\n",
              "</div>"
            ],
            "text/plain": [
              "       ID  Gender  Ever_Married  ...  Var_1  Segmentation Age_groups\n",
              "0  462809       0             1  ...      4             3       0-25\n",
              "1  462643       1             2  ...      4             0      35-45\n",
              "2  466315       1             2  ...      6             1     65-100\n",
              "3  461735       0             2  ...      6             1     65-100\n",
              "4  462669       1             2  ...      6             0      35-45\n",
              "\n",
              "[5 rows x 12 columns]"
            ]
          },
          "metadata": {
            "tags": []
          },
          "execution_count": 157
        }
      ]
    },
    {
      "cell_type": "code",
      "metadata": {
        "id": "Palll09YhOhh",
        "colab_type": "code",
        "colab": {
          "base_uri": "https://localhost:8080/",
          "height": 340
        },
        "outputId": "fdbd59b0-223f-4d66-d16f-63be0e7d60b9"
      },
      "source": [
        "df.info()"
      ],
      "execution_count": 158,
      "outputs": [
        {
          "output_type": "stream",
          "text": [
            "<class 'pandas.core.frame.DataFrame'>\n",
            "RangeIndex: 10695 entries, 0 to 10694\n",
            "Data columns (total 12 columns):\n",
            " #   Column           Non-Null Count  Dtype  \n",
            "---  ------           --------------  -----  \n",
            " 0   ID               10695 non-null  int64  \n",
            " 1   Gender           10695 non-null  int64  \n",
            " 2   Ever_Married     10695 non-null  int64  \n",
            " 3   Age              10695 non-null  int64  \n",
            " 4   Graduated        10695 non-null  int64  \n",
            " 5   Profession       10695 non-null  object \n",
            " 6   Work_Experience  9597 non-null   float64\n",
            " 7   Spending_Score   10695 non-null  int64  \n",
            " 8   Family_Size      10247 non-null  float64\n",
            " 9   Var_1            10695 non-null  int64  \n",
            " 10  Segmentation     10695 non-null  int64  \n",
            " 11  Age_groups       10695 non-null  object \n",
            "dtypes: float64(2), int64(8), object(2)\n",
            "memory usage: 1002.8+ KB\n"
          ],
          "name": "stdout"
        }
      ]
    },
    {
      "cell_type": "code",
      "metadata": {
        "id": "XWPQY27jL7ZX",
        "colab_type": "code",
        "colab": {}
      },
      "source": [
        "cat_col=df.select_dtypes(exclude=np.number)"
      ],
      "execution_count": 159,
      "outputs": []
    },
    {
      "cell_type": "code",
      "metadata": {
        "id": "NG8TpEfOiQrn",
        "colab_type": "code",
        "colab": {
          "base_uri": "https://localhost:8080/",
          "height": 379
        },
        "outputId": "d42d28e0-eaa2-4c8f-f647-79e63a86a495"
      },
      "source": [
        "df.corr()"
      ],
      "execution_count": 160,
      "outputs": [
        {
          "output_type": "execute_result",
          "data": {
            "text/html": [
              "<div>\n",
              "<style scoped>\n",
              "    .dataframe tbody tr th:only-of-type {\n",
              "        vertical-align: middle;\n",
              "    }\n",
              "\n",
              "    .dataframe tbody tr th {\n",
              "        vertical-align: top;\n",
              "    }\n",
              "\n",
              "    .dataframe thead th {\n",
              "        text-align: right;\n",
              "    }\n",
              "</style>\n",
              "<table border=\"1\" class=\"dataframe\">\n",
              "  <thead>\n",
              "    <tr style=\"text-align: right;\">\n",
              "      <th></th>\n",
              "      <th>ID</th>\n",
              "      <th>Gender</th>\n",
              "      <th>Ever_Married</th>\n",
              "      <th>Age</th>\n",
              "      <th>Graduated</th>\n",
              "      <th>Work_Experience</th>\n",
              "      <th>Spending_Score</th>\n",
              "      <th>Family_Size</th>\n",
              "      <th>Var_1</th>\n",
              "      <th>Segmentation</th>\n",
              "    </tr>\n",
              "  </thead>\n",
              "  <tbody>\n",
              "    <tr>\n",
              "      <th>ID</th>\n",
              "      <td>1.000000</td>\n",
              "      <td>-0.005364</td>\n",
              "      <td>0.016564</td>\n",
              "      <td>-0.009562</td>\n",
              "      <td>-0.018097</td>\n",
              "      <td>-0.029351</td>\n",
              "      <td>0.003949</td>\n",
              "      <td>0.014095</td>\n",
              "      <td>0.002495</td>\n",
              "      <td>0.000312</td>\n",
              "    </tr>\n",
              "    <tr>\n",
              "      <th>Gender</th>\n",
              "      <td>-0.005364</td>\n",
              "      <td>1.000000</td>\n",
              "      <td>-0.115230</td>\n",
              "      <td>-0.025208</td>\n",
              "      <td>0.040831</td>\n",
              "      <td>0.062572</td>\n",
              "      <td>-0.059056</td>\n",
              "      <td>-0.059704</td>\n",
              "      <td>-0.035167</td>\n",
              "      <td>-0.018790</td>\n",
              "    </tr>\n",
              "    <tr>\n",
              "      <th>Ever_Married</th>\n",
              "      <td>0.016564</td>\n",
              "      <td>-0.115230</td>\n",
              "      <td>1.000000</td>\n",
              "      <td>0.523141</td>\n",
              "      <td>0.186325</td>\n",
              "      <td>-0.095089</td>\n",
              "      <td>0.536152</td>\n",
              "      <td>-0.076579</td>\n",
              "      <td>0.092429</td>\n",
              "      <td>-0.118932</td>\n",
              "    </tr>\n",
              "    <tr>\n",
              "      <th>Age</th>\n",
              "      <td>-0.009562</td>\n",
              "      <td>-0.025208</td>\n",
              "      <td>0.523141</td>\n",
              "      <td>1.000000</td>\n",
              "      <td>0.218446</td>\n",
              "      <td>-0.189653</td>\n",
              "      <td>0.421978</td>\n",
              "      <td>-0.281725</td>\n",
              "      <td>0.158736</td>\n",
              "      <td>-0.144215</td>\n",
              "    </tr>\n",
              "    <tr>\n",
              "      <th>Graduated</th>\n",
              "      <td>-0.018097</td>\n",
              "      <td>0.040831</td>\n",
              "      <td>0.186325</td>\n",
              "      <td>0.218446</td>\n",
              "      <td>1.000000</td>\n",
              "      <td>0.029279</td>\n",
              "      <td>0.094379</td>\n",
              "      <td>-0.231215</td>\n",
              "      <td>0.134263</td>\n",
              "      <td>-0.092622</td>\n",
              "    </tr>\n",
              "    <tr>\n",
              "      <th>Work_Experience</th>\n",
              "      <td>-0.029351</td>\n",
              "      <td>0.062572</td>\n",
              "      <td>-0.095089</td>\n",
              "      <td>-0.189653</td>\n",
              "      <td>0.029279</td>\n",
              "      <td>1.000000</td>\n",
              "      <td>-0.075595</td>\n",
              "      <td>-0.065163</td>\n",
              "      <td>0.018134</td>\n",
              "      <td>0.015989</td>\n",
              "    </tr>\n",
              "    <tr>\n",
              "      <th>Spending_Score</th>\n",
              "      <td>0.003949</td>\n",
              "      <td>-0.059056</td>\n",
              "      <td>0.536152</td>\n",
              "      <td>0.421978</td>\n",
              "      <td>0.094379</td>\n",
              "      <td>-0.075595</td>\n",
              "      <td>1.000000</td>\n",
              "      <td>0.090380</td>\n",
              "      <td>0.078453</td>\n",
              "      <td>-0.057589</td>\n",
              "    </tr>\n",
              "    <tr>\n",
              "      <th>Family_Size</th>\n",
              "      <td>0.014095</td>\n",
              "      <td>-0.059704</td>\n",
              "      <td>-0.076579</td>\n",
              "      <td>-0.281725</td>\n",
              "      <td>-0.231215</td>\n",
              "      <td>-0.065163</td>\n",
              "      <td>0.090380</td>\n",
              "      <td>1.000000</td>\n",
              "      <td>-0.147534</td>\n",
              "      <td>0.118428</td>\n",
              "    </tr>\n",
              "    <tr>\n",
              "      <th>Var_1</th>\n",
              "      <td>0.002495</td>\n",
              "      <td>-0.035167</td>\n",
              "      <td>0.092429</td>\n",
              "      <td>0.158736</td>\n",
              "      <td>0.134263</td>\n",
              "      <td>0.018134</td>\n",
              "      <td>0.078453</td>\n",
              "      <td>-0.147534</td>\n",
              "      <td>1.000000</td>\n",
              "      <td>-0.005396</td>\n",
              "    </tr>\n",
              "    <tr>\n",
              "      <th>Segmentation</th>\n",
              "      <td>0.000312</td>\n",
              "      <td>-0.018790</td>\n",
              "      <td>-0.118932</td>\n",
              "      <td>-0.144215</td>\n",
              "      <td>-0.092622</td>\n",
              "      <td>0.015989</td>\n",
              "      <td>-0.057589</td>\n",
              "      <td>0.118428</td>\n",
              "      <td>-0.005396</td>\n",
              "      <td>1.000000</td>\n",
              "    </tr>\n",
              "  </tbody>\n",
              "</table>\n",
              "</div>"
            ],
            "text/plain": [
              "                       ID    Gender  ...     Var_1  Segmentation\n",
              "ID               1.000000 -0.005364  ...  0.002495      0.000312\n",
              "Gender          -0.005364  1.000000  ... -0.035167     -0.018790\n",
              "Ever_Married     0.016564 -0.115230  ...  0.092429     -0.118932\n",
              "Age             -0.009562 -0.025208  ...  0.158736     -0.144215\n",
              "Graduated       -0.018097  0.040831  ...  0.134263     -0.092622\n",
              "Work_Experience -0.029351  0.062572  ...  0.018134      0.015989\n",
              "Spending_Score   0.003949 -0.059056  ...  0.078453     -0.057589\n",
              "Family_Size      0.014095 -0.059704  ... -0.147534      0.118428\n",
              "Var_1            0.002495 -0.035167  ...  1.000000     -0.005396\n",
              "Segmentation     0.000312 -0.018790  ... -0.005396      1.000000\n",
              "\n",
              "[10 rows x 10 columns]"
            ]
          },
          "metadata": {
            "tags": []
          },
          "execution_count": 160
        }
      ]
    },
    {
      "cell_type": "code",
      "metadata": {
        "id": "lsgkqDIriU6o",
        "colab_type": "code",
        "colab": {
          "base_uri": "https://localhost:8080/",
          "height": 960
        },
        "outputId": "0058956c-16b6-4a71-d358-db81254046bc"
      },
      "source": [
        "plt.figure(figsize=(15,15))\n",
        "sns.heatmap(df.corr(),annot=True)"
      ],
      "execution_count": 161,
      "outputs": [
        {
          "output_type": "execute_result",
          "data": {
            "text/plain": [
              "<matplotlib.axes._subplots.AxesSubplot at 0x7f5cb3171358>"
            ]
          },
          "metadata": {
            "tags": []
          },
          "execution_count": 161
        },
        {
          "output_type": "display_data",
          "data": {
            "image/png": "[encoded data removed]",
            "text/plain": [
              "<Figure size 1080x1080 with 2 Axes>"
            ]
          },
          "metadata": {
            "tags": [],
            "needs_background": "light"
          }
        }
      ]
    },
    {
      "cell_type": "code",
      "metadata": {
        "id": "hkCHL6jmNL0T",
        "colab_type": "code",
        "colab": {
          "base_uri": "https://localhost:8080/",
          "height": 419
        },
        "outputId": "cffe2512-a123-4576-c276-eafe2e54aaf4"
      },
      "source": [
        "cat_col"
      ],
      "execution_count": 162,
      "outputs": [
        {
          "output_type": "execute_result",
          "data": {
            "text/html": [
              "<div>\n",
              "<style scoped>\n",
              "    .dataframe tbody tr th:only-of-type {\n",
              "        vertical-align: middle;\n",
              "    }\n",
              "\n",
              "    .dataframe tbody tr th {\n",
              "        vertical-align: top;\n",
              "    }\n",
              "\n",
              "    .dataframe thead th {\n",
              "        text-align: right;\n",
              "    }\n",
              "</style>\n",
              "<table border=\"1\" class=\"dataframe\">\n",
              "  <thead>\n",
              "    <tr style=\"text-align: right;\">\n",
              "      <th></th>\n",
              "      <th>Profession</th>\n",
              "      <th>Age_groups</th>\n",
              "    </tr>\n",
              "  </thead>\n",
              "  <tbody>\n",
              "    <tr>\n",
              "      <th>0</th>\n",
              "      <td>Healthcare</td>\n",
              "      <td>0-25</td>\n",
              "    </tr>\n",
              "    <tr>\n",
              "      <th>1</th>\n",
              "      <td>Engineer</td>\n",
              "      <td>35-45</td>\n",
              "    </tr>\n",
              "    <tr>\n",
              "      <th>2</th>\n",
              "      <td>Engineer</td>\n",
              "      <td>65-100</td>\n",
              "    </tr>\n",
              "    <tr>\n",
              "      <th>3</th>\n",
              "      <td>Lawyer</td>\n",
              "      <td>65-100</td>\n",
              "    </tr>\n",
              "    <tr>\n",
              "      <th>4</th>\n",
              "      <td>Entertainment</td>\n",
              "      <td>35-45</td>\n",
              "    </tr>\n",
              "    <tr>\n",
              "      <th>...</th>\n",
              "      <td>...</td>\n",
              "      <td>...</td>\n",
              "    </tr>\n",
              "    <tr>\n",
              "      <th>10690</th>\n",
              "      <td>Healthcare</td>\n",
              "      <td>25-35</td>\n",
              "    </tr>\n",
              "    <tr>\n",
              "      <th>10691</th>\n",
              "      <td>Doctor</td>\n",
              "      <td>25-35</td>\n",
              "    </tr>\n",
              "    <tr>\n",
              "      <th>10692</th>\n",
              "      <td>Entertainment</td>\n",
              "      <td>45-55</td>\n",
              "    </tr>\n",
              "    <tr>\n",
              "      <th>10693</th>\n",
              "      <td>Executive</td>\n",
              "      <td>45-55</td>\n",
              "    </tr>\n",
              "    <tr>\n",
              "      <th>10694</th>\n",
              "      <td>Healthcare</td>\n",
              "      <td>35-45</td>\n",
              "    </tr>\n",
              "  </tbody>\n",
              "</table>\n",
              "<p>10695 rows × 2 columns</p>\n",
              "</div>"
            ],
            "text/plain": [
              "          Profession Age_groups\n",
              "0         Healthcare       0-25\n",
              "1           Engineer      35-45\n",
              "2           Engineer     65-100\n",
              "3             Lawyer     65-100\n",
              "4      Entertainment      35-45\n",
              "...              ...        ...\n",
              "10690     Healthcare      25-35\n",
              "10691         Doctor      25-35\n",
              "10692  Entertainment      45-55\n",
              "10693      Executive      45-55\n",
              "10694     Healthcare      35-45\n",
              "\n",
              "[10695 rows x 2 columns]"
            ]
          },
          "metadata": {
            "tags": []
          },
          "execution_count": 162
        }
      ]
    },
    {
      "cell_type": "code",
      "metadata": {
        "id": "UYuzly4rNlvR",
        "colab_type": "code",
        "colab": {}
      },
      "source": [
        "df=pd.concat([df,pd.get_dummies(cat_col)],axis='columns')"
      ],
      "execution_count": 163,
      "outputs": []
    },
    {
      "cell_type": "code",
      "metadata": {
        "id": "gvv1IQzMkQt-",
        "colab_type": "code",
        "colab": {
          "base_uri": "https://localhost:8080/",
          "height": 510
        },
        "outputId": "0b36d790-edb7-4866-cde3-96eede77b2b5"
      },
      "source": [
        "df.isna().sum()"
      ],
      "execution_count": 164,
      "outputs": [
        {
          "output_type": "execute_result",
          "data": {
            "text/plain": [
              "ID                             0\n",
              "Gender                         0\n",
              "Ever_Married                   0\n",
              "Age                            0\n",
              "Graduated                      0\n",
              "Profession                     0\n",
              "Work_Experience             1098\n",
              "Spending_Score                 0\n",
              "Family_Size                  448\n",
              "Var_1                          0\n",
              "Segmentation                   0\n",
              "Age_groups                     0\n",
              "Profession_Artist              0\n",
              "Profession_Doctor              0\n",
              "Profession_Engineer            0\n",
              "Profession_Entertainment       0\n",
              "Profession_Executive           0\n",
              "Profession_Healthcare          0\n",
              "Profession_Homemaker           0\n",
              "Profession_Lawyer              0\n",
              "Profession_Marketing           0\n",
              "Profession_Unemployed          0\n",
              "Age_groups_0-25                0\n",
              "Age_groups_25-35               0\n",
              "Age_groups_35-45               0\n",
              "Age_groups_45-55               0\n",
              "Age_groups_55-65               0\n",
              "Age_groups_65-100              0\n",
              "dtype: int64"
            ]
          },
          "metadata": {
            "tags": []
          },
          "execution_count": 164
        }
      ]
    },
    {
      "cell_type": "code",
      "metadata": {
        "id": "dhwFROmFkcEp",
        "colab_type": "code",
        "colab": {
          "base_uri": "https://localhost:8080/",
          "height": 34
        },
        "outputId": "b64f8ec6-e4bc-443c-e5c3-6f1549e36b81"
      },
      "source": [
        "df.shape"
      ],
      "execution_count": 73,
      "outputs": [
        {
          "output_type": "execute_result",
          "data": {
            "text/plain": [
              "(10695, 22)"
            ]
          },
          "metadata": {
            "tags": []
          },
          "execution_count": 73
        }
      ]
    },
    {
      "cell_type": "code",
      "metadata": {
        "id": "BY8F4zagOfNp",
        "colab_type": "code",
        "colab": {}
      },
      "source": [
        "df.drop(columns={'Profession'},inplace=True)"
      ],
      "execution_count": 165,
      "outputs": []
    },
    {
      "cell_type": "code",
      "metadata": {
        "id": "ff5TYeTCOitr",
        "colab_type": "code",
        "colab": {}
      },
      "source": [
        "# df['Family_Size'].fillna(-999,inplace=True)"
      ],
      "execution_count": 75,
      "outputs": []
    },
    {
      "cell_type": "code",
      "metadata": {
        "id": "_3VAXUUK5KBF",
        "colab_type": "code",
        "colab": {}
      },
      "source": [
        "df['Family_Size'].fillna(df['Family_Size'].median(),inplace=True)"
      ],
      "execution_count": 166,
      "outputs": []
    },
    {
      "cell_type": "code",
      "metadata": {
        "id": "L9CRhqHFOpHe",
        "colab_type": "code",
        "colab": {}
      },
      "source": [
        "df['Work_Experience'].fillna(df['Work_Experience'].median(),inplace=True)"
      ],
      "execution_count": 167,
      "outputs": []
    },
    {
      "cell_type": "code",
      "metadata": {
        "id": "icl3PGZZOuCK",
        "colab_type": "code",
        "colab": {
          "base_uri": "https://localhost:8080/",
          "height": 493
        },
        "outputId": "afb6cfed-3640-436c-e261-1bc20b565772"
      },
      "source": [
        "df.isna().sum()"
      ],
      "execution_count": 168,
      "outputs": [
        {
          "output_type": "execute_result",
          "data": {
            "text/plain": [
              "ID                          0\n",
              "Gender                      0\n",
              "Ever_Married                0\n",
              "Age                         0\n",
              "Graduated                   0\n",
              "Work_Experience             0\n",
              "Spending_Score              0\n",
              "Family_Size                 0\n",
              "Var_1                       0\n",
              "Segmentation                0\n",
              "Age_groups                  0\n",
              "Profession_Artist           0\n",
              "Profession_Doctor           0\n",
              "Profession_Engineer         0\n",
              "Profession_Entertainment    0\n",
              "Profession_Executive        0\n",
              "Profession_Healthcare       0\n",
              "Profession_Homemaker        0\n",
              "Profession_Lawyer           0\n",
              "Profession_Marketing        0\n",
              "Profession_Unemployed       0\n",
              "Age_groups_0-25             0\n",
              "Age_groups_25-35            0\n",
              "Age_groups_35-45            0\n",
              "Age_groups_45-55            0\n",
              "Age_groups_55-65            0\n",
              "Age_groups_65-100           0\n",
              "dtype: int64"
            ]
          },
          "metadata": {
            "tags": []
          },
          "execution_count": 168
        }
      ]
    },
    {
      "cell_type": "code",
      "metadata": {
        "id": "hWQPB9xBOvq5",
        "colab_type": "code",
        "colab": {
          "base_uri": "https://localhost:8080/",
          "height": 595
        },
        "outputId": "b579c882-2ad4-4903-f48c-b65f58fd059b"
      },
      "source": [
        "df.info()"
      ],
      "execution_count": 169,
      "outputs": [
        {
          "output_type": "stream",
          "text": [
            "<class 'pandas.core.frame.DataFrame'>\n",
            "RangeIndex: 10695 entries, 0 to 10694\n",
            "Data columns (total 27 columns):\n",
            " #   Column                    Non-Null Count  Dtype  \n",
            "---  ------                    --------------  -----  \n",
            " 0   ID                        10695 non-null  int64  \n",
            " 1   Gender                    10695 non-null  int64  \n",
            " 2   Ever_Married              10695 non-null  int64  \n",
            " 3   Age                       10695 non-null  int64  \n",
            " 4   Graduated                 10695 non-null  int64  \n",
            " 5   Work_Experience           10695 non-null  float64\n",
            " 6   Spending_Score            10695 non-null  int64  \n",
            " 7   Family_Size               10695 non-null  float64\n",
            " 8   Var_1                     10695 non-null  int64  \n",
            " 9   Segmentation              10695 non-null  int64  \n",
            " 10  Age_groups                10695 non-null  object \n",
            " 11  Profession_Artist         10695 non-null  uint8  \n",
            " 12  Profession_Doctor         10695 non-null  uint8  \n",
            " 13  Profession_Engineer       10695 non-null  uint8  \n",
            " 14  Profession_Entertainment  10695 non-null  uint8  \n",
            " 15  Profession_Executive      10695 non-null  uint8  \n",
            " 16  Profession_Healthcare     10695 non-null  uint8  \n",
            " 17  Profession_Homemaker      10695 non-null  uint8  \n",
            " 18  Profession_Lawyer         10695 non-null  uint8  \n",
            " 19  Profession_Marketing      10695 non-null  uint8  \n",
            " 20  Profession_Unemployed     10695 non-null  uint8  \n",
            " 21  Age_groups_0-25           10695 non-null  uint8  \n",
            " 22  Age_groups_25-35          10695 non-null  uint8  \n",
            " 23  Age_groups_35-45          10695 non-null  uint8  \n",
            " 24  Age_groups_45-55          10695 non-null  uint8  \n",
            " 25  Age_groups_55-65          10695 non-null  uint8  \n",
            " 26  Age_groups_65-100         10695 non-null  uint8  \n",
            "dtypes: float64(2), int64(8), object(1), uint8(16)\n",
            "memory usage: 1.1+ MB\n"
          ],
          "name": "stdout"
        }
      ]
    },
    {
      "cell_type": "code",
      "metadata": {
        "id": "wMXjCMxF-qym",
        "colab_type": "code",
        "colab": {}
      },
      "source": [
        "df.drop(columns={'Age'},inplace=True)"
      ],
      "execution_count": 170,
      "outputs": []
    },
    {
      "cell_type": "code",
      "metadata": {
        "id": "vO0liMF6_E8O",
        "colab_type": "code",
        "colab": {}
      },
      "source": [
        "df.drop(columns={'Age_groups'},inplace=True)"
      ],
      "execution_count": 182,
      "outputs": []
    },
    {
      "cell_type": "code",
      "metadata": {
        "id": "k5Kek-TxXh9k",
        "colab_type": "code",
        "colab": {}
      },
      "source": [
        "test_df=df[df['Segmentation']==-1]"
      ],
      "execution_count": 183,
      "outputs": []
    },
    {
      "cell_type": "code",
      "metadata": {
        "id": "y-lTj4kPZjin",
        "colab_type": "code",
        "colab": {}
      },
      "source": [
        "test_df=test_df.reset_index(drop=True)"
      ],
      "execution_count": 184,
      "outputs": []
    },
    {
      "cell_type": "code",
      "metadata": {
        "id": "RpA98ROI1UtU",
        "colab_type": "code",
        "colab": {}
      },
      "source": [
        "test_df.drop(columns={'Segmentation'},inplace=True)"
      ],
      "execution_count": 185,
      "outputs": []
    },
    {
      "cell_type": "code",
      "metadata": {
        "id": "opP8aC5J2q4m",
        "colab_type": "code",
        "colab": {}
      },
      "source": [
        "train_df=df[df['Segmentation']!=-1]"
      ],
      "execution_count": 186,
      "outputs": []
    },
    {
      "cell_type": "code",
      "metadata": {
        "id": "uCLKfYvB80uO",
        "colab_type": "code",
        "colab": {
          "base_uri": "https://localhost:8080/",
          "height": 122
        },
        "outputId": "b68d8169-ef20-4347-a577-335ccdcc6d0e"
      },
      "source": [
        "train_df.drop(columns={'ID'},inplace=True)"
      ],
      "execution_count": 187,
      "outputs": [
        {
          "output_type": "stream",
          "text": [
            "/usr/local/lib/python3.6/dist-packages/pandas/core/frame.py:3997: SettingWithCopyWarning: \n",
            "A value is trying to be set on a copy of a slice from a DataFrame\n",
            "\n",
            "See the caveats in the documentation: https://pandas.pydata.org/pandas-docs/stable/user_guide/indexing.html#returning-a-view-versus-a-copy\n",
            "  errors=errors,\n"
          ],
          "name": "stderr"
        }
      ]
    },
    {
      "cell_type": "code",
      "metadata": {
        "id": "pfYLuv4g4LMM",
        "colab_type": "code",
        "colab": {}
      },
      "source": [
        "X=train_df.drop(columns={'Segmentation'})"
      ],
      "execution_count": 188,
      "outputs": []
    },
    {
      "cell_type": "code",
      "metadata": {
        "id": "jyV8DbJr4QCI",
        "colab_type": "code",
        "colab": {}
      },
      "source": [
        "y=train_df['Segmentation']"
      ],
      "execution_count": 189,
      "outputs": []
    },
    {
      "cell_type": "code",
      "metadata": {
        "id": "FHqploxy-6lG",
        "colab_type": "code",
        "colab": {
          "base_uri": "https://localhost:8080/",
          "height": 241
        },
        "outputId": "4d948e1b-029d-4c43-b2b3-60fb270f756a"
      },
      "source": [
        "X.head()"
      ],
      "execution_count": 190,
      "outputs": [
        {
          "output_type": "execute_result",
          "data": {
            "text/html": [
              "<div>\n",
              "<style scoped>\n",
              "    .dataframe tbody tr th:only-of-type {\n",
              "        vertical-align: middle;\n",
              "    }\n",
              "\n",
              "    .dataframe tbody tr th {\n",
              "        vertical-align: top;\n",
              "    }\n",
              "\n",
              "    .dataframe thead th {\n",
              "        text-align: right;\n",
              "    }\n",
              "</style>\n",
              "<table border=\"1\" class=\"dataframe\">\n",
              "  <thead>\n",
              "    <tr style=\"text-align: right;\">\n",
              "      <th></th>\n",
              "      <th>Gender</th>\n",
              "      <th>Ever_Married</th>\n",
              "      <th>Graduated</th>\n",
              "      <th>Work_Experience</th>\n",
              "      <th>Spending_Score</th>\n",
              "      <th>Family_Size</th>\n",
              "      <th>Var_1</th>\n",
              "      <th>Profession_Artist</th>\n",
              "      <th>Profession_Doctor</th>\n",
              "      <th>Profession_Engineer</th>\n",
              "      <th>Profession_Entertainment</th>\n",
              "      <th>Profession_Executive</th>\n",
              "      <th>Profession_Healthcare</th>\n",
              "      <th>Profession_Homemaker</th>\n",
              "      <th>Profession_Lawyer</th>\n",
              "      <th>Profession_Marketing</th>\n",
              "      <th>Profession_Unemployed</th>\n",
              "      <th>Age_groups_0-25</th>\n",
              "      <th>Age_groups_25-35</th>\n",
              "      <th>Age_groups_35-45</th>\n",
              "      <th>Age_groups_45-55</th>\n",
              "      <th>Age_groups_55-65</th>\n",
              "      <th>Age_groups_65-100</th>\n",
              "    </tr>\n",
              "  </thead>\n",
              "  <tbody>\n",
              "    <tr>\n",
              "      <th>0</th>\n",
              "      <td>0</td>\n",
              "      <td>1</td>\n",
              "      <td>1</td>\n",
              "      <td>1.0</td>\n",
              "      <td>0</td>\n",
              "      <td>4.0</td>\n",
              "      <td>4</td>\n",
              "      <td>0</td>\n",
              "      <td>0</td>\n",
              "      <td>0</td>\n",
              "      <td>0</td>\n",
              "      <td>0</td>\n",
              "      <td>1</td>\n",
              "      <td>0</td>\n",
              "      <td>0</td>\n",
              "      <td>0</td>\n",
              "      <td>0</td>\n",
              "      <td>1</td>\n",
              "      <td>0</td>\n",
              "      <td>0</td>\n",
              "      <td>0</td>\n",
              "      <td>0</td>\n",
              "      <td>0</td>\n",
              "    </tr>\n",
              "    <tr>\n",
              "      <th>1</th>\n",
              "      <td>1</td>\n",
              "      <td>2</td>\n",
              "      <td>2</td>\n",
              "      <td>1.0</td>\n",
              "      <td>1</td>\n",
              "      <td>3.0</td>\n",
              "      <td>4</td>\n",
              "      <td>0</td>\n",
              "      <td>0</td>\n",
              "      <td>1</td>\n",
              "      <td>0</td>\n",
              "      <td>0</td>\n",
              "      <td>0</td>\n",
              "      <td>0</td>\n",
              "      <td>0</td>\n",
              "      <td>0</td>\n",
              "      <td>0</td>\n",
              "      <td>0</td>\n",
              "      <td>0</td>\n",
              "      <td>1</td>\n",
              "      <td>0</td>\n",
              "      <td>0</td>\n",
              "      <td>0</td>\n",
              "    </tr>\n",
              "    <tr>\n",
              "      <th>2</th>\n",
              "      <td>1</td>\n",
              "      <td>2</td>\n",
              "      <td>2</td>\n",
              "      <td>1.0</td>\n",
              "      <td>0</td>\n",
              "      <td>1.0</td>\n",
              "      <td>6</td>\n",
              "      <td>0</td>\n",
              "      <td>0</td>\n",
              "      <td>1</td>\n",
              "      <td>0</td>\n",
              "      <td>0</td>\n",
              "      <td>0</td>\n",
              "      <td>0</td>\n",
              "      <td>0</td>\n",
              "      <td>0</td>\n",
              "      <td>0</td>\n",
              "      <td>0</td>\n",
              "      <td>0</td>\n",
              "      <td>0</td>\n",
              "      <td>0</td>\n",
              "      <td>0</td>\n",
              "      <td>1</td>\n",
              "    </tr>\n",
              "    <tr>\n",
              "      <th>3</th>\n",
              "      <td>0</td>\n",
              "      <td>2</td>\n",
              "      <td>2</td>\n",
              "      <td>0.0</td>\n",
              "      <td>2</td>\n",
              "      <td>2.0</td>\n",
              "      <td>6</td>\n",
              "      <td>0</td>\n",
              "      <td>0</td>\n",
              "      <td>0</td>\n",
              "      <td>0</td>\n",
              "      <td>0</td>\n",
              "      <td>0</td>\n",
              "      <td>0</td>\n",
              "      <td>1</td>\n",
              "      <td>0</td>\n",
              "      <td>0</td>\n",
              "      <td>0</td>\n",
              "      <td>0</td>\n",
              "      <td>0</td>\n",
              "      <td>0</td>\n",
              "      <td>0</td>\n",
              "      <td>1</td>\n",
              "    </tr>\n",
              "    <tr>\n",
              "      <th>4</th>\n",
              "      <td>1</td>\n",
              "      <td>2</td>\n",
              "      <td>2</td>\n",
              "      <td>1.0</td>\n",
              "      <td>2</td>\n",
              "      <td>6.0</td>\n",
              "      <td>6</td>\n",
              "      <td>0</td>\n",
              "      <td>0</td>\n",
              "      <td>0</td>\n",
              "      <td>1</td>\n",
              "      <td>0</td>\n",
              "      <td>0</td>\n",
              "      <td>0</td>\n",
              "      <td>0</td>\n",
              "      <td>0</td>\n",
              "      <td>0</td>\n",
              "      <td>0</td>\n",
              "      <td>0</td>\n",
              "      <td>1</td>\n",
              "      <td>0</td>\n",
              "      <td>0</td>\n",
              "      <td>0</td>\n",
              "    </tr>\n",
              "  </tbody>\n",
              "</table>\n",
              "</div>"
            ],
            "text/plain": [
              "   Gender  Ever_Married  ...  Age_groups_55-65  Age_groups_65-100\n",
              "0       0             1  ...                 0                  0\n",
              "1       1             2  ...                 0                  0\n",
              "2       1             2  ...                 0                  1\n",
              "3       0             2  ...                 0                  1\n",
              "4       1             2  ...                 0                  0\n",
              "\n",
              "[5 rows x 23 columns]"
            ]
          },
          "metadata": {
            "tags": []
          },
          "execution_count": 190
        }
      ]
    },
    {
      "cell_type": "code",
      "metadata": {
        "id": "HpMgIsJjPqqs",
        "colab_type": "code",
        "colab": {}
      },
      "source": [
        "from sklearn.preprocessing import RobustScaler"
      ],
      "execution_count": 191,
      "outputs": []
    },
    {
      "cell_type": "code",
      "metadata": {
        "id": "I5E6KSFhPvnk",
        "colab_type": "code",
        "colab": {}
      },
      "source": [
        "scaler=RobustScaler()"
      ],
      "execution_count": 192,
      "outputs": []
    },
    {
      "cell_type": "code",
      "metadata": {
        "id": "ToV5gT1vPvCx",
        "colab_type": "code",
        "colab": {
          "base_uri": "https://localhost:8080/",
          "height": 51
        },
        "outputId": "8499f0ee-de11-4a7d-d7d9-ba28b22c3b50"
      },
      "source": [
        "scaler.fit(X)"
      ],
      "execution_count": 193,
      "outputs": [
        {
          "output_type": "execute_result",
          "data": {
            "text/plain": [
              "RobustScaler(copy=True, quantile_range=(25.0, 75.0), with_centering=True,\n",
              "             with_scaling=True)"
            ]
          },
          "metadata": {
            "tags": []
          },
          "execution_count": 193
        }
      ]
    },
    {
      "cell_type": "code",
      "metadata": {
        "id": "e-z7_tyfP3Iv",
        "colab_type": "code",
        "colab": {}
      },
      "source": [
        "X_std=scaler.fit_transform(X)"
      ],
      "execution_count": 194,
      "outputs": []
    },
    {
      "cell_type": "code",
      "metadata": {
        "id": "x3NtGzkr3YFA",
        "colab_type": "code",
        "colab": {}
      },
      "source": [
        "from sklearn.model_selection import train_test_split"
      ],
      "execution_count": 196,
      "outputs": []
    },
    {
      "cell_type": "code",
      "metadata": {
        "id": "KFUfOXZa3sty",
        "colab_type": "code",
        "colab": {}
      },
      "source": [
        "X_train, X_test, y_train, y_test = train_test_split(X_std, y, test_size=0.25, random_state=99)"
      ],
      "execution_count": 197,
      "outputs": []
    },
    {
      "cell_type": "code",
      "metadata": {
        "id": "CLahBdL_4F6r",
        "colab_type": "code",
        "colab": {}
      },
      "source": [
        "from sklearn.ensemble import RandomForestClassifier\n",
        "from lightgbm import LGBMClassifier\n",
        "from xgboost import XGBClassifier\n"
      ],
      "execution_count": 198,
      "outputs": []
    },
    {
      "cell_type": "code",
      "metadata": {
        "id": "1yu40hs059_N",
        "colab_type": "code",
        "colab": {}
      },
      "source": [
        "rfc=RandomForestClassifier(n_estimators=5000,max_depth=24,min_samples_leaf=10)"
      ],
      "execution_count": 199,
      "outputs": []
    },
    {
      "cell_type": "code",
      "metadata": {
        "id": "NX-8XyWJcVmR",
        "colab_type": "code",
        "colab": {}
      },
      "source": [
        "lg=LGBMClassifier(n_estimators=1000)"
      ],
      "execution_count": 200,
      "outputs": []
    },
    {
      "cell_type": "code",
      "metadata": {
        "id": "bbWZxaH87NuT",
        "colab_type": "code",
        "colab": {}
      },
      "source": [
        "xgb=XGBClassifier(max_depth=3,subsample=.8,colsample_bytree=.6,n_estimators=50)"
      ],
      "execution_count": 201,
      "outputs": []
    },
    {
      "cell_type": "code",
      "metadata": {
        "id": "eVj8jacv5_Yk",
        "colab_type": "code",
        "colab": {
          "base_uri": "https://localhost:8080/",
          "height": 136
        },
        "outputId": "1bdd2bd2-d55a-4aa3-ff7c-02990c6eee85"
      },
      "source": [
        "xgb.fit(X_train,y_train)"
      ],
      "execution_count": 202,
      "outputs": [
        {
          "output_type": "execute_result",
          "data": {
            "text/plain": [
              "XGBClassifier(base_score=0.5, booster='gbtree', colsample_bylevel=1,\n",
              "              colsample_bynode=1, colsample_bytree=0.6, gamma=0,\n",
              "              learning_rate=0.1, max_delta_step=0, max_depth=3,\n",
              "              min_child_weight=1, missing=None, n_estimators=50, n_jobs=1,\n",
              "              nthread=None, objective='multi:softprob', random_state=0,\n",
              "              reg_alpha=0, reg_lambda=1, scale_pos_weight=1, seed=None,\n",
              "              silent=None, subsample=0.8, verbosity=1)"
            ]
          },
          "metadata": {
            "tags": []
          },
          "execution_count": 202
        }
      ]
    },
    {
      "cell_type": "code",
      "metadata": {
        "id": "RW1Hpm_H6Bkg",
        "colab_type": "code",
        "colab": {}
      },
      "source": [
        "train_pred=xgb.predict(X_train)"
      ],
      "execution_count": 203,
      "outputs": []
    },
    {
      "cell_type": "code",
      "metadata": {
        "id": "wk1AuStq6EnE",
        "colab_type": "code",
        "colab": {}
      },
      "source": [
        "test_pred=xgb.predict(X_test)"
      ],
      "execution_count": 204,
      "outputs": []
    },
    {
      "cell_type": "code",
      "metadata": {
        "id": "1P5JgKdr6LT6",
        "colab_type": "code",
        "colab": {
          "base_uri": "https://localhost:8080/",
          "height": 34
        },
        "outputId": "f4fdf0f4-116f-49b8-e57e-355c207d73c4"
      },
      "source": [
        "xgb.score(X_train,y_train)"
      ],
      "execution_count": 205,
      "outputs": [
        {
          "output_type": "execute_result",
          "data": {
            "text/plain": [
              "0.5485043794414146"
            ]
          },
          "metadata": {
            "tags": []
          },
          "execution_count": 205
        }
      ]
    },
    {
      "cell_type": "code",
      "metadata": {
        "id": "Jww4uvXn6EWr",
        "colab_type": "code",
        "colab": {
          "base_uri": "https://localhost:8080/",
          "height": 34
        },
        "outputId": "7325a9fb-7a77-42d2-db7e-d5434a95d104"
      },
      "source": [
        "xgb.score(X_test,y_test)"
      ],
      "execution_count": 206,
      "outputs": [
        {
          "output_type": "execute_result",
          "data": {
            "text/plain": [
              "0.5166088249876054"
            ]
          },
          "metadata": {
            "tags": []
          },
          "execution_count": 206
        }
      ]
    },
    {
      "cell_type": "code",
      "metadata": {
        "id": "LxtLJUhj6Hsf",
        "colab_type": "code",
        "colab": {}
      },
      "source": [
        "from sklearn.metrics import confusion_matrix, classification_report"
      ],
      "execution_count": 207,
      "outputs": []
    },
    {
      "cell_type": "code",
      "metadata": {
        "id": "tsruz3ad6UzE",
        "colab_type": "code",
        "colab": {
          "base_uri": "https://localhost:8080/",
          "height": 204
        },
        "outputId": "7201d8dd-553b-4474-8b53-3fe6a6c98e03"
      },
      "source": [
        "print(classification_report(y_train,train_pred))"
      ],
      "execution_count": 208,
      "outputs": [
        {
          "output_type": "stream",
          "text": [
            "              precision    recall  f1-score   support\n",
            "\n",
            "           0       0.46      0.51      0.48      1498\n",
            "           1       0.46      0.29      0.35      1343\n",
            "           2       0.56      0.62      0.59      1483\n",
            "           3       0.66      0.72      0.69      1727\n",
            "\n",
            "    accuracy                           0.55      6051\n",
            "   macro avg       0.53      0.54      0.53      6051\n",
            "weighted avg       0.54      0.55      0.54      6051\n",
            "\n"
          ],
          "name": "stdout"
        }
      ]
    },
    {
      "cell_type": "code",
      "metadata": {
        "id": "PUGCqV7vR8u6",
        "colab_type": "code",
        "colab": {
          "base_uri": "https://localhost:8080/",
          "height": 204
        },
        "outputId": "ebb9eb49-6e0c-489b-8d3f-3f83070403dc"
      },
      "source": [
        "print(classification_report(y_test,test_pred))"
      ],
      "execution_count": 209,
      "outputs": [
        {
          "output_type": "stream",
          "text": [
            "              precision    recall  f1-score   support\n",
            "\n",
            "           0       0.43      0.50      0.46       474\n",
            "           1       0.40      0.22      0.28       515\n",
            "           2       0.54      0.64      0.59       487\n",
            "           3       0.63      0.70      0.67       541\n",
            "\n",
            "    accuracy                           0.52      2017\n",
            "   macro avg       0.50      0.52      0.50      2017\n",
            "weighted avg       0.50      0.52      0.50      2017\n",
            "\n"
          ],
          "name": "stdout"
        }
      ]
    },
    {
      "cell_type": "code",
      "metadata": {
        "id": "BkZd0SvB8mF1",
        "colab_type": "code",
        "colab": {}
      },
      "source": [
        ""
      ],
      "execution_count": 209,
      "outputs": []
    },
    {
      "cell_type": "code",
      "metadata": {
        "id": "roNpj3Fo8diz",
        "colab_type": "code",
        "colab": {}
      },
      "source": [
        ""
      ],
      "execution_count": 209,
      "outputs": []
    },
    {
      "cell_type": "code",
      "metadata": {
        "id": "S2G5OdkZ8L49",
        "colab_type": "code",
        "colab": {}
      },
      "source": [
        "#Taking segmentation from train data for common IDS in test data\n"
      ],
      "execution_count": 210,
      "outputs": []
    },
    {
      "cell_type": "code",
      "metadata": {
        "id": "8hpVTrNo78MU",
        "colab_type": "code",
        "colab": {}
      },
      "source": [
        "common_id=np.intersect1d(train_data.ID,test_data.ID)\n"
      ],
      "execution_count": 211,
      "outputs": []
    },
    {
      "cell_type": "code",
      "metadata": {
        "id": "sQ_UnyBW_lxP",
        "colab_type": "code",
        "colab": {
          "base_uri": "https://localhost:8080/",
          "height": 241
        },
        "outputId": "9664fe00-a1a0-4ef1-8a78-14f438052fea"
      },
      "source": [
        "test_df.head()"
      ],
      "execution_count": 212,
      "outputs": [
        {
          "output_type": "execute_result",
          "data": {
            "text/html": [
              "<div>\n",
              "<style scoped>\n",
              "    .dataframe tbody tr th:only-of-type {\n",
              "        vertical-align: middle;\n",
              "    }\n",
              "\n",
              "    .dataframe tbody tr th {\n",
              "        vertical-align: top;\n",
              "    }\n",
              "\n",
              "    .dataframe thead th {\n",
              "        text-align: right;\n",
              "    }\n",
              "</style>\n",
              "<table border=\"1\" class=\"dataframe\">\n",
              "  <thead>\n",
              "    <tr style=\"text-align: right;\">\n",
              "      <th></th>\n",
              "      <th>ID</th>\n",
              "      <th>Gender</th>\n",
              "      <th>Ever_Married</th>\n",
              "      <th>Graduated</th>\n",
              "      <th>Work_Experience</th>\n",
              "      <th>Spending_Score</th>\n",
              "      <th>Family_Size</th>\n",
              "      <th>Var_1</th>\n",
              "      <th>Profession_Artist</th>\n",
              "      <th>Profession_Doctor</th>\n",
              "      <th>Profession_Engineer</th>\n",
              "      <th>Profession_Entertainment</th>\n",
              "      <th>Profession_Executive</th>\n",
              "      <th>Profession_Healthcare</th>\n",
              "      <th>Profession_Homemaker</th>\n",
              "      <th>Profession_Lawyer</th>\n",
              "      <th>Profession_Marketing</th>\n",
              "      <th>Profession_Unemployed</th>\n",
              "      <th>Age_groups_0-25</th>\n",
              "      <th>Age_groups_25-35</th>\n",
              "      <th>Age_groups_35-45</th>\n",
              "      <th>Age_groups_45-55</th>\n",
              "      <th>Age_groups_55-65</th>\n",
              "      <th>Age_groups_65-100</th>\n",
              "    </tr>\n",
              "  </thead>\n",
              "  <tbody>\n",
              "    <tr>\n",
              "      <th>0</th>\n",
              "      <td>458989</td>\n",
              "      <td>1</td>\n",
              "      <td>2</td>\n",
              "      <td>2</td>\n",
              "      <td>0.0</td>\n",
              "      <td>0</td>\n",
              "      <td>1.0</td>\n",
              "      <td>6</td>\n",
              "      <td>0</td>\n",
              "      <td>0</td>\n",
              "      <td>1</td>\n",
              "      <td>0</td>\n",
              "      <td>0</td>\n",
              "      <td>0</td>\n",
              "      <td>0</td>\n",
              "      <td>0</td>\n",
              "      <td>0</td>\n",
              "      <td>0</td>\n",
              "      <td>0</td>\n",
              "      <td>0</td>\n",
              "      <td>1</td>\n",
              "      <td>0</td>\n",
              "      <td>0</td>\n",
              "      <td>0</td>\n",
              "    </tr>\n",
              "    <tr>\n",
              "      <th>1</th>\n",
              "      <td>458994</td>\n",
              "      <td>0</td>\n",
              "      <td>2</td>\n",
              "      <td>2</td>\n",
              "      <td>8.0</td>\n",
              "      <td>1</td>\n",
              "      <td>4.0</td>\n",
              "      <td>6</td>\n",
              "      <td>0</td>\n",
              "      <td>0</td>\n",
              "      <td>0</td>\n",
              "      <td>0</td>\n",
              "      <td>0</td>\n",
              "      <td>1</td>\n",
              "      <td>0</td>\n",
              "      <td>0</td>\n",
              "      <td>0</td>\n",
              "      <td>0</td>\n",
              "      <td>0</td>\n",
              "      <td>0</td>\n",
              "      <td>1</td>\n",
              "      <td>0</td>\n",
              "      <td>0</td>\n",
              "      <td>0</td>\n",
              "    </tr>\n",
              "    <tr>\n",
              "      <th>2</th>\n",
              "      <td>458996</td>\n",
              "      <td>1</td>\n",
              "      <td>2</td>\n",
              "      <td>1</td>\n",
              "      <td>0.0</td>\n",
              "      <td>0</td>\n",
              "      <td>1.0</td>\n",
              "      <td>6</td>\n",
              "      <td>0</td>\n",
              "      <td>0</td>\n",
              "      <td>0</td>\n",
              "      <td>0</td>\n",
              "      <td>0</td>\n",
              "      <td>0</td>\n",
              "      <td>0</td>\n",
              "      <td>0</td>\n",
              "      <td>0</td>\n",
              "      <td>1</td>\n",
              "      <td>0</td>\n",
              "      <td>0</td>\n",
              "      <td>0</td>\n",
              "      <td>0</td>\n",
              "      <td>0</td>\n",
              "      <td>1</td>\n",
              "    </tr>\n",
              "    <tr>\n",
              "      <th>3</th>\n",
              "      <td>459000</td>\n",
              "      <td>0</td>\n",
              "      <td>2</td>\n",
              "      <td>1</td>\n",
              "      <td>11.0</td>\n",
              "      <td>2</td>\n",
              "      <td>2.0</td>\n",
              "      <td>6</td>\n",
              "      <td>0</td>\n",
              "      <td>0</td>\n",
              "      <td>0</td>\n",
              "      <td>0</td>\n",
              "      <td>1</td>\n",
              "      <td>0</td>\n",
              "      <td>0</td>\n",
              "      <td>0</td>\n",
              "      <td>0</td>\n",
              "      <td>0</td>\n",
              "      <td>0</td>\n",
              "      <td>0</td>\n",
              "      <td>0</td>\n",
              "      <td>0</td>\n",
              "      <td>1</td>\n",
              "      <td>0</td>\n",
              "    </tr>\n",
              "    <tr>\n",
              "      <th>4</th>\n",
              "      <td>459001</td>\n",
              "      <td>1</td>\n",
              "      <td>1</td>\n",
              "      <td>1</td>\n",
              "      <td>1.0</td>\n",
              "      <td>0</td>\n",
              "      <td>4.0</td>\n",
              "      <td>6</td>\n",
              "      <td>0</td>\n",
              "      <td>0</td>\n",
              "      <td>0</td>\n",
              "      <td>0</td>\n",
              "      <td>0</td>\n",
              "      <td>0</td>\n",
              "      <td>0</td>\n",
              "      <td>0</td>\n",
              "      <td>1</td>\n",
              "      <td>0</td>\n",
              "      <td>1</td>\n",
              "      <td>0</td>\n",
              "      <td>0</td>\n",
              "      <td>0</td>\n",
              "      <td>0</td>\n",
              "      <td>0</td>\n",
              "    </tr>\n",
              "  </tbody>\n",
              "</table>\n",
              "</div>"
            ],
            "text/plain": [
              "       ID  Gender  ...  Age_groups_55-65  Age_groups_65-100\n",
              "0  458989       1  ...                 0                  0\n",
              "1  458994       0  ...                 0                  0\n",
              "2  458996       1  ...                 0                  1\n",
              "3  459000       0  ...                 1                  0\n",
              "4  459001       1  ...                 0                  0\n",
              "\n",
              "[5 rows x 24 columns]"
            ]
          },
          "metadata": {
            "tags": []
          },
          "execution_count": 212
        }
      ]
    },
    {
      "cell_type": "code",
      "metadata": {
        "colab_type": "code",
        "id": "tpWqzK1AXJqQ",
        "colab": {}
      },
      "source": [
        "test_dff=scaler.transform(test_df.drop(columns={'ID'}))"
      ],
      "execution_count": 213,
      "outputs": []
    },
    {
      "cell_type": "code",
      "metadata": {
        "colab_type": "code",
        "id": "QPB4RjgVXJqW",
        "colab": {
          "base_uri": "https://localhost:8080/",
          "height": 136
        },
        "outputId": "fe5e9786-6b36-4cf3-e11b-be8d8cfb64a2"
      },
      "source": [
        "test_dff"
      ],
      "execution_count": 214,
      "outputs": [
        {
          "output_type": "execute_result",
          "data": {
            "text/plain": [
              "array([[ 1.,  0.,  0., ...,  0.,  0.,  0.],\n",
              "       [ 0.,  0.,  0., ...,  0.,  0.,  0.],\n",
              "       [ 1.,  0., -1., ...,  0.,  0.,  1.],\n",
              "       ...,\n",
              "       [ 1., -1.,  0., ...,  1.,  0.,  0.],\n",
              "       [ 0.,  0.,  0., ...,  1.,  0.,  0.],\n",
              "       [ 1., -1.,  0., ...,  0.,  0.,  0.]])"
            ]
          },
          "metadata": {
            "tags": []
          },
          "execution_count": 214
        }
      ]
    },
    {
      "cell_type": "code",
      "metadata": {
        "colab_type": "code",
        "id": "Js3woMa2XJqb",
        "colab": {}
      },
      "source": [
        "final_pred=xgb.predict(test_dff)"
      ],
      "execution_count": 215,
      "outputs": []
    },
    {
      "cell_type": "code",
      "metadata": {
        "id": "DKX5h1Qk_uht",
        "colab_type": "code",
        "colab": {
          "base_uri": "https://localhost:8080/",
          "height": 34
        },
        "outputId": "074c5d9c-bded-4dc7-af91-68dee20afc89"
      },
      "source": [
        "final_pred"
      ],
      "execution_count": 216,
      "outputs": [
        {
          "output_type": "execute_result",
          "data": {
            "text/plain": [
              "array([0, 2, 0, ..., 0, 1, 3])"
            ]
          },
          "metadata": {
            "tags": []
          },
          "execution_count": 216
        }
      ]
    },
    {
      "cell_type": "code",
      "metadata": {
        "id": "NkWaKKax_xcP",
        "colab_type": "code",
        "colab": {
          "base_uri": "https://localhost:8080/",
          "height": 34
        },
        "outputId": "6b355f8f-8dba-49df-9d37-4912b0303cce"
      },
      "source": [
        "len(final_pred)"
      ],
      "execution_count": 217,
      "outputs": [
        {
          "output_type": "execute_result",
          "data": {
            "text/plain": [
              "2627"
            ]
          },
          "metadata": {
            "tags": []
          },
          "execution_count": 217
        }
      ]
    },
    {
      "cell_type": "code",
      "metadata": {
        "id": "2JnGJ7SV_zwK",
        "colab_type": "code",
        "colab": {
          "base_uri": "https://localhost:8080/",
          "height": 34
        },
        "outputId": "393597ca-70da-4113-b7ce-bd8af4c0a263"
      },
      "source": [
        "test_data.shape"
      ],
      "execution_count": 218,
      "outputs": [
        {
          "output_type": "execute_result",
          "data": {
            "text/plain": [
              "(2627, 11)"
            ]
          },
          "metadata": {
            "tags": []
          },
          "execution_count": 218
        }
      ]
    },
    {
      "cell_type": "code",
      "metadata": {
        "id": "Vrl4Z9DZ82K5",
        "colab_type": "code",
        "colab": {
          "base_uri": "https://localhost:8080/",
          "height": 139
        },
        "outputId": "2d9cc295-7627-4729-c93c-d200966dd06a"
      },
      "source": [
        "\n",
        "submission=test_data[['ID']]\n",
        "submission['Segmentation']=final_pred"
      ],
      "execution_count": 219,
      "outputs": [
        {
          "output_type": "stream",
          "text": [
            "/usr/local/lib/python3.6/dist-packages/ipykernel_launcher.py:3: SettingWithCopyWarning: \n",
            "A value is trying to be set on a copy of a slice from a DataFrame.\n",
            "Try using .loc[row_indexer,col_indexer] = value instead\n",
            "\n",
            "See the caveats in the documentation: https://pandas.pydata.org/pandas-docs/stable/user_guide/indexing.html#returning-a-view-versus-a-copy\n",
            "  This is separate from the ipykernel package so we can avoid doing imports until\n"
          ],
          "name": "stderr"
        }
      ]
    },
    {
      "cell_type": "code",
      "metadata": {
        "id": "uFcNI2-Y816G",
        "colab_type": "code",
        "colab": {}
      },
      "source": [
        "submission.set_index('ID',inplace=True)\n"
      ],
      "execution_count": 220,
      "outputs": []
    },
    {
      "cell_type": "code",
      "metadata": {
        "id": "autRyxJj9YYV",
        "colab_type": "code",
        "colab": {
          "base_uri": "https://localhost:8080/",
          "height": 34
        },
        "outputId": "bf2bf50e-d27b-4bc4-b621-b3147a21e485"
      },
      "source": [
        "test_data.shape"
      ],
      "execution_count": 221,
      "outputs": [
        {
          "output_type": "execute_result",
          "data": {
            "text/plain": [
              "(2627, 11)"
            ]
          },
          "metadata": {
            "tags": []
          },
          "execution_count": 221
        }
      ]
    },
    {
      "cell_type": "code",
      "metadata": {
        "id": "VoW4CfhH9UjZ",
        "colab_type": "code",
        "colab": {
          "base_uri": "https://localhost:8080/",
          "height": 34
        },
        "outputId": "4f615adf-408b-403f-db31-a38f49c22fe6"
      },
      "source": [
        "np.array(train_data.set_index('ID').loc[common_id,'Segmentation'])"
      ],
      "execution_count": 223,
      "outputs": [
        {
          "output_type": "execute_result",
          "data": {
            "text/plain": [
              "array(['B', 'C', 'A', ..., 'D', 'A', 'B'], dtype=object)"
            ]
          },
          "metadata": {
            "tags": []
          },
          "execution_count": 223
        }
      ]
    },
    {
      "cell_type": "code",
      "metadata": {
        "id": "vtiSNvxY9H_d",
        "colab_type": "code",
        "colab": {
          "base_uri": "https://localhost:8080/",
          "height": 139
        },
        "outputId": "ce99273c-045e-41d9-9014-adfd6102a385"
      },
      "source": [
        "submission.loc[common_id,'Segmentation']=np.array(train_data.set_index('ID').loc[common_id,'Segmentation'])"
      ],
      "execution_count": 224,
      "outputs": [
        {
          "output_type": "stream",
          "text": [
            "/usr/local/lib/python3.6/dist-packages/pandas/core/indexing.py:966: SettingWithCopyWarning: \n",
            "A value is trying to be set on a copy of a slice from a DataFrame.\n",
            "Try using .loc[row_indexer,col_indexer] = value instead\n",
            "\n",
            "See the caveats in the documentation: https://pandas.pydata.org/pandas-docs/stable/user_guide/indexing.html#returning-a-view-versus-a-copy\n",
            "  self.obj[item] = s\n"
          ],
          "name": "stderr"
        }
      ]
    },
    {
      "cell_type": "code",
      "metadata": {
        "id": "zGsvWK3e9Hvi",
        "colab_type": "code",
        "colab": {}
      },
      "source": [
        "submission.reset_index(inplace=True)"
      ],
      "execution_count": 225,
      "outputs": []
    },
    {
      "cell_type": "code",
      "metadata": {
        "id": "zAwabGoiAR-C",
        "colab_type": "code",
        "colab": {
          "base_uri": "https://localhost:8080/",
          "height": 170
        },
        "outputId": "d60037ef-6cc9-461d-8c8b-7a71b0ffa2a4"
      },
      "source": [
        "submission['Segmentation'].value_counts()"
      ],
      "execution_count": 227,
      "outputs": [
        {
          "output_type": "execute_result",
          "data": {
            "text/plain": [
              "D    642\n",
              "A    593\n",
              "C    556\n",
              "B    541\n",
              "3     90\n",
              "2     80\n",
              "0     78\n",
              "1     47\n",
              "Name: Segmentation, dtype: int64"
            ]
          },
          "metadata": {
            "tags": []
          },
          "execution_count": 227
        }
      ]
    },
    {
      "cell_type": "code",
      "metadata": {
        "id": "SPf9hoj9AcIq",
        "colab_type": "code",
        "colab": {
          "base_uri": "https://localhost:8080/",
          "height": 122
        },
        "outputId": "5dc16ec5-759d-48d9-a1f6-064776aa7b5b"
      },
      "source": [
        "submission['Segmentation'].replace({3:'D', 0:'A', 1:'B', 2:'C'},inplace=True)"
      ],
      "execution_count": 228,
      "outputs": [
        {
          "output_type": "stream",
          "text": [
            "/usr/local/lib/python3.6/dist-packages/pandas/core/generic.py:6746: SettingWithCopyWarning: \n",
            "A value is trying to be set on a copy of a slice from a DataFrame\n",
            "\n",
            "See the caveats in the documentation: https://pandas.pydata.org/pandas-docs/stable/user_guide/indexing.html#returning-a-view-versus-a-copy\n",
            "  self._update_inplace(new_data)\n"
          ],
          "name": "stderr"
        }
      ]
    },
    {
      "cell_type": "code",
      "metadata": {
        "id": "L08mZEFRAlAt",
        "colab_type": "code",
        "colab": {
          "base_uri": "https://localhost:8080/",
          "height": 102
        },
        "outputId": "0a3f2339-33f3-41f8-8535-6fd575badc85"
      },
      "source": [
        "submission['Segmentation'].value_counts()"
      ],
      "execution_count": 229,
      "outputs": [
        {
          "output_type": "execute_result",
          "data": {
            "text/plain": [
              "D    732\n",
              "A    671\n",
              "C    636\n",
              "B    588\n",
              "Name: Segmentation, dtype: int64"
            ]
          },
          "metadata": {
            "tags": []
          },
          "execution_count": 229
        }
      ]
    },
    {
      "cell_type": "code",
      "metadata": {
        "id": "zcwSJ2x5Aj9j",
        "colab_type": "code",
        "colab": {}
      },
      "source": [
        "submission.to_csv('xgbclassifier.csv',index=False)"
      ],
      "execution_count": 230,
      "outputs": []
    },
    {
      "cell_type": "code",
      "metadata": {
        "id": "FTusNG4m6Y3g",
        "colab_type": "code",
        "colab": {}
      },
      "source": [
        "importance=xgb.feature_importances_"
      ],
      "execution_count": 231,
      "outputs": []
    },
    {
      "cell_type": "code",
      "metadata": {
        "id": "KNnPwLXlRDuK",
        "colab_type": "code",
        "colab": {}
      },
      "source": [
        "imp_df=pd.DataFrame(importance,index=X.columns,columns={'Importance'})"
      ],
      "execution_count": 232,
      "outputs": []
    },
    {
      "cell_type": "code",
      "metadata": {
        "id": "qNFSdTVDRcSI",
        "colab_type": "code",
        "colab": {
          "base_uri": "https://localhost:8080/",
          "height": 762
        },
        "outputId": "11ddcb66-d0c5-49a0-fe98-9cf225fdb3a9"
      },
      "source": [
        "imp_df.sort_values('Importance',ascending=False)"
      ],
      "execution_count": 233,
      "outputs": [
        {
          "output_type": "execute_result",
          "data": {
            "text/html": [
              "<div>\n",
              "<style scoped>\n",
              "    .dataframe tbody tr th:only-of-type {\n",
              "        vertical-align: middle;\n",
              "    }\n",
              "\n",
              "    .dataframe tbody tr th {\n",
              "        vertical-align: top;\n",
              "    }\n",
              "\n",
              "    .dataframe thead th {\n",
              "        text-align: right;\n",
              "    }\n",
              "</style>\n",
              "<table border=\"1\" class=\"dataframe\">\n",
              "  <thead>\n",
              "    <tr style=\"text-align: right;\">\n",
              "      <th></th>\n",
              "      <th>Importance</th>\n",
              "    </tr>\n",
              "  </thead>\n",
              "  <tbody>\n",
              "    <tr>\n",
              "      <th>Profession_Healthcare</th>\n",
              "      <td>0.207599</td>\n",
              "    </tr>\n",
              "    <tr>\n",
              "      <th>Profession_Artist</th>\n",
              "      <td>0.106329</td>\n",
              "    </tr>\n",
              "    <tr>\n",
              "      <th>Ever_Married</th>\n",
              "      <td>0.096144</td>\n",
              "    </tr>\n",
              "    <tr>\n",
              "      <th>Age_groups_0-25</th>\n",
              "      <td>0.080734</td>\n",
              "    </tr>\n",
              "    <tr>\n",
              "      <th>Spending_Score</th>\n",
              "      <td>0.070242</td>\n",
              "    </tr>\n",
              "    <tr>\n",
              "      <th>Graduated</th>\n",
              "      <td>0.066898</td>\n",
              "    </tr>\n",
              "    <tr>\n",
              "      <th>Age_groups_25-35</th>\n",
              "      <td>0.053135</td>\n",
              "    </tr>\n",
              "    <tr>\n",
              "      <th>Profession_Marketing</th>\n",
              "      <td>0.034416</td>\n",
              "    </tr>\n",
              "    <tr>\n",
              "      <th>Family_Size</th>\n",
              "      <td>0.032782</td>\n",
              "    </tr>\n",
              "    <tr>\n",
              "      <th>Profession_Entertainment</th>\n",
              "      <td>0.029866</td>\n",
              "    </tr>\n",
              "    <tr>\n",
              "      <th>Profession_Executive</th>\n",
              "      <td>0.027083</td>\n",
              "    </tr>\n",
              "    <tr>\n",
              "      <th>Age_groups_45-55</th>\n",
              "      <td>0.025681</td>\n",
              "    </tr>\n",
              "    <tr>\n",
              "      <th>Age_groups_35-45</th>\n",
              "      <td>0.025422</td>\n",
              "    </tr>\n",
              "    <tr>\n",
              "      <th>Profession_Engineer</th>\n",
              "      <td>0.022850</td>\n",
              "    </tr>\n",
              "    <tr>\n",
              "      <th>Age_groups_55-65</th>\n",
              "      <td>0.022143</td>\n",
              "    </tr>\n",
              "    <tr>\n",
              "      <th>Var_1</th>\n",
              "      <td>0.019909</td>\n",
              "    </tr>\n",
              "    <tr>\n",
              "      <th>Profession_Lawyer</th>\n",
              "      <td>0.016089</td>\n",
              "    </tr>\n",
              "    <tr>\n",
              "      <th>Gender</th>\n",
              "      <td>0.013498</td>\n",
              "    </tr>\n",
              "    <tr>\n",
              "      <th>Profession_Homemaker</th>\n",
              "      <td>0.011448</td>\n",
              "    </tr>\n",
              "    <tr>\n",
              "      <th>Work_Experience</th>\n",
              "      <td>0.011255</td>\n",
              "    </tr>\n",
              "    <tr>\n",
              "      <th>Profession_Doctor</th>\n",
              "      <td>0.010329</td>\n",
              "    </tr>\n",
              "    <tr>\n",
              "      <th>Profession_Unemployed</th>\n",
              "      <td>0.008237</td>\n",
              "    </tr>\n",
              "    <tr>\n",
              "      <th>Age_groups_65-100</th>\n",
              "      <td>0.007911</td>\n",
              "    </tr>\n",
              "  </tbody>\n",
              "</table>\n",
              "</div>"
            ],
            "text/plain": [
              "                          Importance\n",
              "Profession_Healthcare       0.207599\n",
              "Profession_Artist           0.106329\n",
              "Ever_Married                0.096144\n",
              "Age_groups_0-25             0.080734\n",
              "Spending_Score              0.070242\n",
              "Graduated                   0.066898\n",
              "Age_groups_25-35            0.053135\n",
              "Profession_Marketing        0.034416\n",
              "Family_Size                 0.032782\n",
              "Profession_Entertainment    0.029866\n",
              "Profession_Executive        0.027083\n",
              "Age_groups_45-55            0.025681\n",
              "Age_groups_35-45            0.025422\n",
              "Profession_Engineer         0.022850\n",
              "Age_groups_55-65            0.022143\n",
              "Var_1                       0.019909\n",
              "Profession_Lawyer           0.016089\n",
              "Gender                      0.013498\n",
              "Profession_Homemaker        0.011448\n",
              "Work_Experience             0.011255\n",
              "Profession_Doctor           0.010329\n",
              "Profession_Unemployed       0.008237\n",
              "Age_groups_65-100           0.007911"
            ]
          },
          "metadata": {
            "tags": []
          },
          "execution_count": 233
        }
      ]
    },
    {
      "cell_type": "code",
      "metadata": {
        "id": "Snjog42kR5R3",
        "colab_type": "code",
        "colab": {
          "base_uri": "https://localhost:8080/",
          "height": 623
        },
        "outputId": "79af521d-194b-484b-e8ed-09edca0cce67"
      },
      "source": [
        "plt.figure(figsize=(10,10))\n",
        "sns.barplot(x=imp_df['Importance'],y=X.columns)"
      ],
      "execution_count": 235,
      "outputs": [
        {
          "output_type": "execute_result",
          "data": {
            "text/plain": [
              "<matplotlib.axes._subplots.AxesSubplot at 0x7f5cb2a4bfd0>"
            ]
          },
          "metadata": {
            "tags": []
          },
          "execution_count": 235
        },
        {
          "output_type": "display_data",
          "data": {
            "image/png": "[encoded data removed]",
            "text/plain": [
              "<Figure size 720x720 with 1 Axes>"
            ]
          },
          "metadata": {
            "tags": [],
            "needs_background": "light"
          }
        }
      ]
    },
    {
      "cell_type": "code",
      "metadata": {
        "id": "dqx7FQDxV-rU",
        "colab_type": "code",
        "colab": {}
      },
      "source": [
        ""
      ],
      "execution_count": null,
      "outputs": []
    }
  ]
}